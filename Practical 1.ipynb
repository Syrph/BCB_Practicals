{
  "nbformat": 4,
  "nbformat_minor": 0,
  "metadata": {
    "kernelspec": {
      "name": "ir",
      "display_name": "R",
      "language": "R"
    },
    "language_info": {
      "name": "R",
      "codemirror_mode": "r",
      "pygments_lexer": "r",
      "mimetype": "text/x-r-source",
      "file_extension": ".r",
      "version": "3.6.3"
    },
    "colab": {
      "name": "Practical 1.ipynb",
      "provenance": []
    }
  },
  "cells": [
    {
      "cell_type": "markdown",
      "metadata": {
        "id": "9vbXnvMuwAHG"
      },
      "source": [
        "# Biodiversity and Conservation Biology (Imperial College London)\n",
        "\n",
        "## Basics in R"
      ]
    },
    {
      "cell_type": "markdown",
      "metadata": {
        "id": "eidLtWWswAHH"
      },
      "source": [
        "### 1. Introduction and resources\n",
        "\n",
        "The aim of this practical is to revise some basic functions in `R` relating to data management and plotting. We will then briefly look at handling spatial data. This practical will also introduce you to `Jupyter Notebooks`, which is a great way to publish reproducible code. \n",
        "\n",
        "#### Jupyter Notebooks\n",
        "\n",
        "For your practicals we will be using a combination of `Jupyter Notebooks` and `RStudio`. `Jupyter Notebooks` is a 'markdown' software, that allows you to neatly view code in blocks, with formatted text inbetween. `RStudio` is a IDE (Interactive Development Environment) that is designed especially for `R`. IDEs can highlight different types of codes (comments or strings for example), and give you error messages if it looks like something is wrong. That makes `RStudio` a great choice for working in `R`.\n",
        "\n",
        "Practicals will be in the format of notebooks, and you should type the code in each block into your own `RStudio` environment on your laptop. You will learn much more from manually typing each block of code into `RStudio`. Copying and pasting is quicker, but you'll learn a lot less, so try not to be tempted! For anyone who has trouble with accessing or running `R`/`RStudio` on their own laptop or a university computer, we have a second option to run the notebooks online in a browser using `google colab`. However, coding your coursework (and future work!) will be easier if you've taken the time to set up your own R environment on your laptop, so this should be a last resort!\n",
        "\n",
        "#### Working directory and using scripts\n",
        "\n",
        "The first step when starting a new session is to set your working directory. Think of it as the 'folder' that you work out of on your computer. Unless you specify differently, anything that you read in or save will be in this folder. The working directory is set using the function `setwd()` and the path to the folders location, for example:\n",
        "\n",
        "`setwd(\"C:/Users/rb417/Desktop/BCB_Practicals\")`\n",
        "\n",
        "You can also see what folder you're currently in:\n",
        "\n",
        "`getwd()`\n",
        "\n",
        "I recomend storing all the files you need for the practicals in one folder called \"BCB_Practicals\", and setting your working directory to this folder at the start of each R session. If you're in `RStudio` you can also use `Tools -> Global Options` to change your default working directory to your preferred folder.\n",
        "\n",
        "Remember that you can find the R help for a particular function by using `?function` or `??function` e.g. `?setwd`. Also recall that `ls()` lists and `rm(list=ls())` clears your workspace.\n",
        "\n",
        "You can open a new script by going to `File -> New File -> R script`. Also on windows you can type `CTRL + SHIFT + N`. Remember that when you save this script you need to add .R (Practical1.R). Save often! Although you can write commands directly into the console window, using a script allows you to save a record of your code that can easily be re-run. This is particuarly useful if you find a mistake later on, or want to update models with new data. \n",
        "\n",
        "To run a single line of your script at a time in windows, a convinent short cut is `CTRL + ENTER`.\n",
        "\n",
        "#### Installing packages for practicals\n",
        "\n",
        "To ease potential online working, we've compiled a script of packages to install, called `install.R`. To run this you can either open the script in `RStudio` and run each line, or you can save time using this code: \n",
        "\n",
        "`source(\"install.R\")`\n",
        "\n",
        "Just make sure the install.R file is saved in your current directory. Or specify the location using a filepathway such as: \n",
        "\n",
        "`source(\"C:/Users/rb417/Desktop/BCB_Practicals/install.R\")`.\n",
        "\n",
        "Mac and Linux users may have into install `GDAL` on their laptop. This is software for handling spatial data, which R uses and is preinstalled on Windows. This can be done from the Mac terminal using homebrew:\n",
        "\n",
        "First install homebrew if you haven't by copying this code into your terminal:\n",
        "\n",
        "`/bin/bash -c \"$(curl -fsSL https://raw.githubusercontent.com/Homebrew/install/master/install.sh)\"`\n",
        "\n",
        "Then install GDAL by running this code:\n",
        "\n",
        "`brew install gdal`\n",
        "\n",
        "Linux users can use the commands (will install other spatial packages): \n",
        "\n",
        "`sudo apt-get update`\n",
        "\n",
        "`sudo apt-get install libgdal-dev libproj-dev libgeos-dev libudunits2-dev libv8-dev libprotobuf-dev libjq-dev`\n",
        "\n",
        "### 2. Revision of data types\n",
        "\n",
        "We'll start with some basics data manipulation in R to get started. \n",
        "\n",
        "For anyone unfamiliar, '#' proceeds comments in scripts that won't be acted on by R, which allows us to label our scripts. Comments are very useful! Try and make as many comments as possible, and use more detail than you think you need. You'd be suprised how quickly you can forget what a function or script does, so detailed comments are a lifesaver!"
      ]
    },
    {
      "cell_type": "code",
      "metadata": {
        "id": "apSjKTqBRpNR"
      },
      "source": [
        "dir.create(\"My Git Repo\")\n",
        "git2r::clone(\"https://github.com/Syrph/BCB_Practicals\", \"My Git Repo\")\n",
        "setwd(\"My Git Repo\")\n",
        "system(\"sudo apt-get install libgdal-dev libproj-dev libgeos-dev libudunits2-dev libv8-dev libprotobuf-dev libjq-dev\")\n",
        "source(\"install.R\")"
      ],
      "execution_count": null,
      "outputs": []
    },
    {
      "cell_type": "code",
      "metadata": {
        "trusted": false,
        "id": "W6nVW9prwAHH"
      },
      "source": [
        "# We'll first try defining some basic variables\n",
        "\n",
        "# A number\n",
        "a <- 5.7\n",
        "a\n",
        "class(a)"
      ],
      "execution_count": null,
      "outputs": []
    },
    {
      "cell_type": "code",
      "metadata": {
        "trusted": false,
        "id": "Se2J8L3HwAHL"
      },
      "source": [
        "# A string\n",
        "b <- \"hello\"\n",
        "b\n",
        "class(b)"
      ],
      "execution_count": null,
      "outputs": []
    },
    {
      "cell_type": "code",
      "metadata": {
        "trusted": false,
        "id": "ezAczH2YwAHN"
      },
      "source": [
        "# A logical object\n",
        "c <- TRUE\n",
        "c\n",
        "class(c)"
      ],
      "execution_count": null,
      "outputs": []
    },
    {
      "cell_type": "markdown",
      "metadata": {
        "id": "KEgWEalUwAHQ"
      },
      "source": [
        "In R variables are stored as vectors. Often vectors will be lists of variables such as 1,2,3,4,5. However, even single variables are still stored as vectors! Try `is.vector()` on each of the variables you just created to see! Vectors are one of the most basic (and useful) ways of storing data in R.\n",
        "\n",
        "Now we'll try creating some basic vectors and manipulating them."
      ]
    },
    {
      "cell_type": "code",
      "metadata": {
        "trusted": false,
        "id": "8lv5NocewAHQ"
      },
      "source": [
        "# Generates a sequence from 0 to 9 by intervals of 1. Try ?seq() for more information\n",
        "d <- seq(0, 9, 1) \n",
        "d"
      ],
      "execution_count": null,
      "outputs": []
    },
    {
      "cell_type": "code",
      "metadata": {
        "trusted": false,
        "id": "hUzMqgB6wAHT"
      },
      "source": [
        "# Cocatenate variables into one vector\n",
        "e <- c(0,1,2,3,4,5,6,7,8,9)\n",
        "e"
      ],
      "execution_count": null,
      "outputs": []
    },
    {
      "cell_type": "markdown",
      "metadata": {
        "id": "hoksLjbLwAHV"
      },
      "source": [
        "`c()` is one of the most used functions in R! It allows you to join together two objects. For example: \n"
      ]
    },
    {
      "cell_type": "code",
      "metadata": {
        "trusted": false,
        "id": "QILpIY0lwAHV"
      },
      "source": [
        "f <- c(d,e)\n",
        "f"
      ],
      "execution_count": null,
      "outputs": []
    },
    {
      "cell_type": "code",
      "metadata": {
        "trusted": false,
        "id": "zc53_cUMwAHX"
      },
      "source": [
        "# Vectors can also be strings or logicals\n",
        "g <- c(\"red\",\"blue\",\"green\")\n",
        "g\n",
        "class(g)\n",
        "\n",
        "h <- c(TRUE, TRUE, FALSE)\n",
        "h\n",
        "class(h)"
      ],
      "execution_count": null,
      "outputs": []
    },
    {
      "cell_type": "code",
      "metadata": {
        "trusted": false,
        "id": "01PF6jm2wAHZ"
      },
      "source": [
        "# find the length of a vector\n",
        "length(e) "
      ],
      "execution_count": null,
      "outputs": []
    },
    {
      "cell_type": "code",
      "metadata": {
        "trusted": false,
        "id": "4cROLHPywAHc"
      },
      "source": [
        "# Indexing is an easy way to pull out certain elements of a vector based on their position\n",
        "e[1] # the first element\n",
        "\n",
        "e[5] # the fifth element\n",
        "\n",
        "e[10] # the tenth element"
      ],
      "execution_count": null,
      "outputs": []
    },
    {
      "cell_type": "code",
      "metadata": {
        "trusted": false,
        "id": "Z7d3fmUrwAHg"
      },
      "source": [
        "# Indexing can also pull out groups of variables\n",
        "\n",
        "e[1:5] # elements 1 to 5\n",
        "\n",
        "e[c(1,4)] # elements 1 and 4\n",
        "\n",
        "e[-4] # e without the fourth element"
      ],
      "execution_count": null,
      "outputs": []
    },
    {
      "cell_type": "markdown",
      "metadata": {
        "id": "TRmCzMUrwAHi"
      },
      "source": [
        "Vectors can be combined into a matrix."
      ]
    },
    {
      "cell_type": "code",
      "metadata": {
        "trusted": false,
        "id": "ROSPqy0DwAHi"
      },
      "source": [
        "numbers <- c(1,2,3,4,5)\n",
        "other.numbers <- c(6,7,8,9,10)\n",
        "all.numbers <- cbind(numbers, other.numbers) # cbind is short for column bind, which joins two vectors together as columns\n",
        "all.numbers\n",
        "class(all.numbers)"
      ],
      "execution_count": null,
      "outputs": []
    },
    {
      "cell_type": "markdown",
      "metadata": {
        "id": "DdOtxvv0wAHk"
      },
      "source": [
        "Dataframes are special case of matrices, where each column can be a different type. Often this is how ecological data will be collected and stored. This is also most often what you will be handling in R."
      ]
    },
    {
      "cell_type": "code",
      "metadata": {
        "trusted": false,
        "id": "uQ_9hV9cwAHk"
      },
      "source": [
        "numbers <- c(1,2,3,4,5)\n",
        "characters <- c(\"a\",\"b\",\"c\",\"d\",\"e\")\n",
        "both.types <- cbind(numbers, characters)\n",
        "both.types\n",
        "class(both.types)"
      ],
      "execution_count": null,
      "outputs": []
    },
    {
      "cell_type": "markdown",
      "metadata": {
        "id": "XOa4WnFcwAHm"
      },
      "source": [
        "What happened there? 'both.types' was a matrix and not a dataframe. Be careful combining strings and numbers together without specifying that you want a dataframe. R will coerce the numbers in strings, so each value is represented as \"1\", \"2\", \"3\"... rather than as actual numbers."
      ]
    },
    {
      "cell_type": "code",
      "metadata": {
        "trusted": false,
        "id": "Gzfva3ivwAHn"
      },
      "source": [
        "both.types[numbers]\n",
        "class(both.types[numbers])"
      ],
      "execution_count": null,
      "outputs": []
    },
    {
      "cell_type": "markdown",
      "metadata": {
        "id": "2BeD-i4dwAHo"
      },
      "source": [
        "Instead try being more explicit."
      ]
    },
    {
      "cell_type": "code",
      "metadata": {
        "trusted": false,
        "id": "1bPVg2gewAHp"
      },
      "source": [
        "both.types <- data.frame(numbers, characters)\n",
        "both.types\n",
        "class(both.types)\n",
        "class(both.types$numbers)"
      ],
      "execution_count": null,
      "outputs": []
    },
    {
      "cell_type": "markdown",
      "metadata": {
        "id": "ChIYzEX8wAHr"
      },
      "source": [
        "**An important note: It's tempting to name variables as single letters (a, b, c) as we did at the beginning of the practical. However, for anything slightly more complex than what we've done this becomes confusing very quickly. It's much better to use longer variables like 'numbers' or 'letters'. This describes what the variable is, and makes it easier for yourself and others to read your code and understand it! An easy way to separate words is to use periods '.' or underscores '_'.**"
      ]
    },
    {
      "cell_type": "markdown",
      "metadata": {
        "id": "5weBIhxTwAHr"
      },
      "source": [
        "Dataframes have lots of useful functions that make them easy to use. First we'll make a slightly longer dataframe."
      ]
    },
    {
      "cell_type": "code",
      "metadata": {
        "trusted": false,
        "id": "bpVNtGEcwAHr"
      },
      "source": [
        "small.numbers <- seq(1, 10, 1)\n",
        "large.numbers <- seq(100, 1000, 100)\n",
        "\n",
        "all.numbers <- data.frame(small.numbers, large.numbers)\n",
        "all.numbers"
      ],
      "execution_count": null,
      "outputs": []
    },
    {
      "cell_type": "code",
      "metadata": {
        "trusted": false,
        "id": "DAR5xvJ9wAHt"
      },
      "source": [
        "# Get the top 6 values\n",
        "head(all.numbers)\n",
        "# Get the bottom 6 values\n",
        "tail(all.numbers)"
      ],
      "execution_count": null,
      "outputs": []
    },
    {
      "cell_type": "code",
      "metadata": {
        "trusted": false,
        "id": "8AodksVWwAHv"
      },
      "source": [
        "#Get the structure of the dataframe\n",
        "str(both.types)"
      ],
      "execution_count": null,
      "outputs": []
    },
    {
      "cell_type": "code",
      "metadata": {
        "trusted": false,
        "id": "Z6w6nsYlwAHx"
      },
      "source": [
        "# Get the number of rows and columns\n",
        "nrow(all.numbers)\n",
        "ncol(all.numbers)"
      ],
      "execution_count": null,
      "outputs": []
    },
    {
      "cell_type": "code",
      "metadata": {
        "trusted": false,
        "id": "wCyESap6wAHz"
      },
      "source": [
        "# Change the column names\n",
        "colnames(all.numbers) <- c(\"small_numbers\", \"large_numbers\")\n",
        "colnames(all.numbers)\n",
        "colnames(all.numbers)[1] <- \"one_to_ten\"\n",
        "colnames(all.numbers)"
      ],
      "execution_count": null,
      "outputs": []
    },
    {
      "cell_type": "markdown",
      "metadata": {
        "id": "vgupkej2wAH1"
      },
      "source": [
        "   \n",
        "   \n",
        "  \n",
        "Indexing dataframes is similar to indexing vectors. The only difference is now there is two dimensions, separated with commas. You can also leave either dimension blank to select all the rows or columns."
      ]
    },
    {
      "cell_type": "code",
      "metadata": {
        "trusted": false,
        "id": "-xpBg-9rwAH1"
      },
      "source": [
        "# First row and first column\n",
        "all.numbers[1,1]\n",
        "\n",
        "# First column\n",
        "all.numbers[,1]\n",
        "\n",
        "# First row (because columns can contain different data types, selecting accross a row returns a dataframe)\n",
        "all.numbers[1,]"
      ],
      "execution_count": null,
      "outputs": []
    },
    {
      "cell_type": "code",
      "metadata": {
        "trusted": false,
        "id": "6-sqlV2jwAH3"
      },
      "source": [
        "# You can also specify columns in a dataframe by using column names in two ways:\n",
        "\n",
        "#Get the small numbers\n",
        "all.numbers$one_to_ten\n",
        "\n",
        "#Get the large numbers (the comma specifies to take them from all rows. Try adding in indexes to the left of the comma)\n",
        "all.numbers[,\"large_numbers\"]"
      ],
      "execution_count": null,
      "outputs": []
    },
    {
      "cell_type": "markdown",
      "metadata": {
        "id": "z1zk1sDswAH5"
      },
      "source": [
        "\n",
        "### 3. Reading, writing and .Rdata files ###\n",
        "\n",
        "Because we're working with jupyter notebooks we won't cover reading and writing in much detail. Briefly, you can export data (especially dataframes) using a few simple functions: \n",
        "\n",
        "As a tab-separated text file\n",
        "\n",
        "`write.table(dataframe.to.export, file=\"data.txt\",sep=\"\\t\", row.names=FALSE)`\n",
        "\n",
        "As a comma-separated file\n",
        "\n",
        "`write.csv(dataframe.to.export, file=\"data.csv\", row.names=FALSE)`\n",
        "\n",
        "To read files back in: \n",
        "\n",
        "`new.data <- read.table(\"data.txt\",header=TRUE,sep=\"\\t\")` \n",
        "\n",
        "`new.data <- read.csv(\"data.csv\")`\n",
        "\n",
        "\n",
        "Objects can also be saved as .RData and loaded back into R at a later time using save() and load(). This is handy when models may take a long time to run, and you don't have to rerun them everytime you start a new R session."
      ]
    },
    {
      "cell_type": "markdown",
      "metadata": {
        "id": "nwE11h58wAH5"
      },
      "source": [
        "### 4. Plotting data\n",
        "\n",
        "R can be used to produce a wide array of plots and has a large capacity for customisation. We will touch upon some basic plots which are useful to visual data during your analysis. For more advanced plots, most biolgists use the package *ggplot2*. A useful guide is the R cookbook, that includes information on customising plots: http://www.cookbook-r.com/Graphs/\n",
        "\n",
        "\n",
        "We'll start with a scatterplot."
      ]
    },
    {
      "cell_type": "code",
      "metadata": {
        "trusted": false,
        "id": "kYhrzO9YwAH6"
      },
      "source": [
        "# Create some data\n",
        "x<-(1:10)\n",
        "y<-seq(2,20,2)\n",
        "\n",
        "# Plot a basic scatter plot\n",
        "plot(x, y, pch=16, col=\"red\", main=\"My plot\", xlab=\"x values\", ylab=\"y values\")"
      ],
      "execution_count": null,
      "outputs": []
    },
    {
      "cell_type": "markdown",
      "metadata": {
        "id": "despbentwAH8"
      },
      "source": [
        "`pch` stands for 'point character' and is the symbol to denote values. Try changing it to other values!\n",
        "\n",
        "You can also get R to plot the scatter plot as a single line using `type = \"l\"`"
      ]
    },
    {
      "cell_type": "code",
      "metadata": {
        "trusted": false,
        "id": "NGHCKLftwAH8"
      },
      "source": [
        "plot(x, y, col=\"red\", main=\"My plot\", xlab=\"x values\", ylab=\"y values\", type = \"l\")"
      ],
      "execution_count": null,
      "outputs": []
    },
    {
      "cell_type": "markdown",
      "metadata": {
        "id": "9yrnfyNDwAH-"
      },
      "source": [
        "Some of the most useful plots for visualling the spread of data are histograms and density plots. R comes built in with functions for sampling distributions we can use for plots."
      ]
    },
    {
      "cell_type": "code",
      "metadata": {
        "scrolled": true,
        "trusted": false,
        "id": "fsgQ3Mf-wAH_"
      },
      "source": [
        "# Sample fifty points randomly from a normal distribution (try taking more or less samples to create smoother curves)\n",
        "normal.distribution <-rnorm(50)\n",
        "\n",
        "# Plot a histogram\n",
        "hist(normal.distribution, main = \"My histogram\", xlab = \"sample value\")\n",
        "\n",
        "# Plot a density plot instead (where frequency of samples is normalised to sum to 1)\n",
        "plot(density(normal.distribution), main = \"My distribution\", xlab = \"sample value\")"
      ],
      "execution_count": null,
      "outputs": []
    },
    {
      "cell_type": "code",
      "metadata": {
        "trusted": false,
        "id": "ioVtjQ5TwAIA"
      },
      "source": [
        "# You can change the grapical parameters to plot graphs side by side\n",
        "par(mfrow=c(1,2))\n",
        "hist(normal.distribution, main = \"My histogram\", xlab = \"sample value\")\n",
        "plot(density(normal.distribution), main = \"My distribution\", xlab = \"sample value\")"
      ],
      "execution_count": null,
      "outputs": []
    },
    {
      "cell_type": "code",
      "metadata": {
        "trusted": false,
        "id": "GlD8kD9CwAIC"
      },
      "source": [
        "# To reset your graph parameters to the default, simply turn off the open graphical device\n",
        "dev.off()"
      ],
      "execution_count": null,
      "outputs": []
    },
    {
      "cell_type": "markdown",
      "metadata": {
        "id": "hhvBqi_twAIF"
      },
      "source": [
        "When plotting histograms, you can also use the arguement `breaks = n` to manually set the number of breaks. Plots can also be saved as objects for future use the same way as assigning any object. Also look at the functions barplot() and boxplot(). \n",
        "\n",
        "You can export your plots using pdf(), jpeg() or png()"
      ]
    },
    {
      "cell_type": "code",
      "metadata": {
        "trusted": false,
        "id": "IfWZtgsRwAIF"
      },
      "source": [
        "# Opens a new graphical device called 'my.plot.name.jpg' in the current working directory\n",
        "jpeg(\"My.plot.name.jpg\")\n",
        "\n",
        "# Create a plot as usual\n",
        "hist(normal.distribution, main = \"My histogram\", xlab = \"sample value\")\n",
        "\n",
        "# Turn off the device to save any changes\n",
        "dev.off()"
      ],
      "execution_count": null,
      "outputs": []
    },
    {
      "cell_type": "markdown",
      "metadata": {
        "id": "TrybC-P5wAIG"
      },
      "source": [
        "### 5. Handling spatial data\n",
        "\n",
        "As conservation biologists, you'll often be required to handle spatial data. This might be for plotting species' ranges, predicting distributions, redlist criteria, and many other reasons. There are two common methods for handling spatial data, using GIS software such as ARCGIS, or using R. Whilst GIS softward is tempting because of its visual interface, I would recomend using R. Because you can easily save and rerun your scripts, you can perform repeatable analyses that isn't always possible when clicking buttons in a visual interface. You can also upload your scripts when you publish papers, so that others can verify your results. Furthermore, you'll often have to do statistical tests on your spatial data, and R has a multitude of packages to achieve this. For this practical we'll introduce you to handling simple spatial data.\n",
        "\n",
        "Spatial data is available in a number of formats. Shapefiles contain spatial vector data for example spatial lines, points or polygons. Rasters contain a grid of values in pixels. In this session we will look at some examples.\n",
        "\n",
        "First we will look at plotting rasters from the WorldClim dataset (Hijmans et al. 2005). Specifically, we want bioclim variables which are often used to describe species' environmental niches. Google for more info!"
      ]
    },
    {
      "cell_type": "code",
      "metadata": {
        "trusted": false,
        "id": "7-xP9YrkwAIH"
      },
      "source": [
        "# Load the raster package for spatial data\n",
        "library(raster)\n",
        "\n",
        "# getData is a function from the raster package that allows us to download some spatial data. \n",
        "bio <- getData(\"worldclim\", var=\"bio\", res=10)\n",
        "\n",
        "# Get the class for our rasters\n",
        "class(bio)\n",
        "\n",
        "# Return details of our rasters\n",
        "bio"
      ],
      "execution_count": null,
      "outputs": []
    },
    {
      "cell_type": "markdown",
      "metadata": {
        "id": "Bxh0xUEP1z0x"
      },
      "source": [
        "We've downloaded 19 raster layers, with different information on rainfall, temperature, and other environmental predictors. They are organised in a 'stack', which is like a list of raster layers. As you can see rasters have dimensions (the number of cells), a resolution (the size of each cell), an extent (where it is located geographically) and a crs, coordinate reference system (the set of coordinates used). When working with spatial data you must ensure all files use the same coordinate system. If different objects use different coordinate systems you will need to reproject them to the same system using a function such as `spTransform()`.\n",
        "\n",
        "We can also use indexing to extract a specfic raster:"
      ]
    },
    {
      "cell_type": "code",
      "metadata": {
        "id": "2XqE2AiL3iFt"
      },
      "source": [
        "# Using one set of [] returns a 'list' of length 1 with the raster inside.\n",
        "class(bio[12])\n",
        "\n",
        "# Using two sets of [] returns the actual raster layer.\n",
        "class(bio[[12]])\n",
        "\n",
        "# Return the raster layer\n",
        "bio[[12]]"
      ],
      "execution_count": null,
      "outputs": []
    },
    {
      "cell_type": "markdown",
      "metadata": {
        "id": "h6_93_Ko4Z1s"
      },
      "source": [
        "Remember to use two square brackets to get the actual raster.\n",
        "\n",
        "Now let's try plotting our raster."
      ]
    },
    {
      "cell_type": "code",
      "metadata": {
        "trusted": false,
        "id": "lvhUJtJqwAIJ"
      },
      "source": [
        "# Create a scale of 100 rainbow colours\n",
        "rainbow_colours <- rainbow(100)\n",
        "\n",
        "# plot annual precipitation (mm) with our colours\n",
        "plot(bio[[12]], col=rainbow_colours)"
      ],
      "execution_count": null,
      "outputs": []
    },
    {
      "cell_type": "markdown",
      "metadata": {
        "id": "s07zbn9x7AKt"
      },
      "source": [
        "You can also create blank rasters of the desired extent and resolution. The following code creates a raster of the same extent and resolution as the precipitation raster. We can also assign values to the cells, such as 0 in this case."
      ]
    },
    {
      "cell_type": "code",
      "metadata": {
        "id": "7b10e9SO7JXN"
      },
      "source": [
        "# Create a blank raster\n",
        "blank_raster <- raster(res=0.1666667,xmn=-180,xmx=180,ymn=-60,ymx=90,\n",
        "                  crs=\"+proj=longlat +datum=WGS84 +towgs84=0,0,0\")\n",
        "\n",
        "# We can assign values to all the cells\n",
        "values(blank_raster) <- 0\n",
        "\n",
        "# Return the raster\n",
        "blank_raster"
      ],
      "execution_count": null,
      "outputs": []
    },
    {
      "cell_type": "markdown",
      "metadata": {
        "id": "MWbidlcq7nb6"
      },
      "source": [
        "Rasters can also be cropped to a certain extent. For example if we just wanted to consider Egypt. First we'll download the country information as a spatial polygon. Spatial polygons are similar to rasters, but only has an extent and crs, rather than cells with values."
      ]
    },
    {
      "cell_type": "code",
      "metadata": {
        "id": "TS9z6fcC8BU6"
      },
      "source": [
        "# Download country boundary (http://www.gadm.org/)\n",
        "Egypt <- getData(\"GADM\", country=\"EGY\", level=0) \n",
        "\n",
        "# Return our polygon (notice the lack of cell values and resolution)\n",
        "Egypt\n",
        "\n",
        "# Plot the polygon\n",
        "plot(Egypt) "
      ],
      "execution_count": null,
      "outputs": []
    },
    {
      "cell_type": "markdown",
      "metadata": {
        "id": "HTIPXhS19gAp"
      },
      "source": [
        "Now we can crop our rainfall layer to just Egypt."
      ]
    },
    {
      "cell_type": "code",
      "metadata": {
        "id": "EIlfruk49gZw"
      },
      "source": [
        "# Crop precipitation raster to just show Egypt\n",
        "Egypt_rain <- crop(bio[[12]], Egypt) \n",
        "\n",
        "# Plot our new rainfall map\n",
        "plot(Egypt_rain)"
      ],
      "execution_count": null,
      "outputs": []
    },
    {
      "cell_type": "markdown",
      "metadata": {
        "id": "9S7K6Gwr-6RS"
      },
      "source": [
        "If you want to make the resolution higher, download the bioclim variables again and change the resolution.\n",
        "\n",
        "**CHANGE TEXT** Next we will use IUCN range maps (IUCN 2015) to look at species richness. This example is from the package letsR (Vilela, Villalobos & Poisot 2015). You can download other species maps from the IUCN and read them in using the readShapePoly function as so:\n",
        "\n",
        " `species1 <- readShapePoly(\"species1.shp\")`. \n",
        "\n",
        "SpatialPolygonsDataFrames can be combined using spRbind from maptools. This example however uses IUCN data available within the letsR package for the frog genus Phyllomedusa."
      ]
    },
    {
      "cell_type": "code",
      "metadata": {
        "id": "Kil7ecua_QFD"
      },
      "source": [
        "# Load the library letsR\n",
        "library(letsR)\n",
        "\n",
        "# The data function loads the Phyllomedusa data directly into the R environment\n",
        "data(Phyllomedusa)\n",
        "\n",
        "# This is a SpatialPolygonsDataFrame containing the occurences of 32 species\n",
        "Phyllomedusa "
      ],
      "execution_count": null,
      "outputs": []
    },
    {
      "cell_type": "markdown",
      "metadata": {
        "id": "NFtBGeTdKIa9"
      },
      "source": [
        "Let's look at a specific species, Phyllomedusa ayeaye, as an example."
      ]
    },
    {
      "cell_type": "code",
      "metadata": {
        "id": "5uDcAdXO_oIF"
      },
      "source": [
        "# Retrieve the polygon that matches the bionomial name \"Phyllomedusa ayeaye\". Notice the double =, which means equal to. One = works the same as <- \n",
        "Phyllomedusa_ayeaye <- Phyllomedusa[Phyllomedusa@data$binomial == \"Phyllomedusa ayeaye\",]\n",
        "\n",
        "# Look at the attributes table\n",
        "Phyllomedusa_ayeaye"
      ],
      "execution_count": null,
      "outputs": []
    },
    {
      "cell_type": "markdown",
      "metadata": {
        "id": "hdC0TP29TZCJ"
      },
      "source": [
        "One of the cool things we can do with this presence absence data is make distribution maps based on presences and absences."
      ]
    },
    {
      "cell_type": "code",
      "metadata": {
        "id": "pdC85-96K3vO"
      },
      "source": [
        "# Creates presence absence grid using the P. ayeaye example. We can specify min and max values for x and y to zoom in our map. Try it without them.\n",
        "# Resol tells the function to use 1 degree of latitude as the resolution for the grid.\n",
        "P_ayeaye_presab <- lets.presab(Phyllomedusa_ayeaye, xmn=-90, xmx=-20, ymn=-50, ymx=20, resol=0.5)\n",
        "\n",
        "# Plot the map\n",
        "plot(P_ayeaye_presab)"
      ],
      "execution_count": null,
      "outputs": []
    },
    {
      "cell_type": "markdown",
      "metadata": {
        "id": "IvWt0F4TWKQ5"
      },
      "source": [
        "Phyllomedusa ayeaye has a tiny range! If we want to make a more impressive map, we can use data on all 32 species to create a map of species richness."
      ]
    },
    {
      "cell_type": "code",
      "metadata": {
        "id": "NtMGxGMLUe7F"
      },
      "source": [
        "# Run the function with the spatialpolygon dataframe of all 32 species.\n",
        "species_richness <- lets.presab(Phyllomedusa, xmn=-90, xmx=-20, ymn=-50, ymx=20, resol=1)\n",
        "\n",
        "# Plot it\n",
        "plot(species_richness)"
      ],
      "execution_count": null,
      "outputs": []
    },
    {
      "cell_type": "markdown",
      "metadata": {
        "id": "YSSDne-TT2Y8"
      },
      "source": [
        "Of course, you can play around with plot settings to create some impressive maps! \n",
        "\n",
        "For your coursework, you might be interested in the effect of latitude on species richness. We can extract latitude from our presence absence grids using the `lets.midpoint` function: "
      ]
    },
    {
      "cell_type": "code",
      "metadata": {
        "id": "TM1vHvopZLmV"
      },
      "source": [
        "# Use the presence absence grid we created earlier\n",
        "lets.midpoint(species_richness, method=\"GM\", planar = T)"
      ],
      "execution_count": null,
      "outputs": []
    },
    {
      "cell_type": "markdown",
      "metadata": {
        "id": "_LXBHQX5XyOa"
      },
      "source": [
        "Doesn't work! Emailed package maintainer. \n",
        "\n",
        "Lets try a for loop instead: "
      ]
    },
    {
      "cell_type": "code",
      "metadata": {
        "id": "4UVyweYKp5WI"
      },
      "source": [
        "# Load spatialEco for centroids\n",
        "library(spatialEco)\n",
        "\n",
        "# Vector to loop through\n",
        "species_names <- Phyllomedusa@data$binomial\n",
        "\n",
        "# Dataframe to store data\n",
        "midpoint_latitudes <- as.data.frame(species_names)\n",
        "midpoint_latitudes$lats <- NA\n",
        "\n",
        "# Add comments later !!!!!!!!!!!!!!!!!!!!!!!!!!!!!!!!!!!!!!!!!!!!!!!!!!!!!!!!!!!!!!!!!!!!!!!!!!!!!!!!!!!!!!!!!!!!!!!!!!!!!!!!!!!!!!!\n",
        "for (species in species_names){\n",
        "  occurences <- Phyllomedusa[Phyllomedusa@data$binomial == species,]\n",
        "  presab <- lets.presab(occurences)\n",
        "  raster <- presab[[2]]\n",
        "  points <- rasterToPoints(raster, spatial = T)\n",
        "  centroid <- wt.centroid(points)\n",
        "  lat <- ymin(centroid)\n",
        "  midpoint_latitudes[midpoint_latitudes$species_names == species, \"lats\"] <- lat\n",
        "}\n",
        "\n",
        "# Return latitudes\n",
        "midpoint_latitudes"
      ],
      "execution_count": null,
      "outputs": []
    },
    {
      "cell_type": "markdown",
      "metadata": {
        "id": "MjB5wRA8sdSA"
      },
      "source": [
        "To tell if certain latitudes have higher species richness, we can divide our species into 5 degree latitude bins. "
      ]
    },
    {
      "cell_type": "code",
      "metadata": {
        "id": "U0_EdLWMs-U0"
      },
      "source": [
        "# First lets create a bin range (from -70 to 70) and size (by=5)\n",
        "range <- seq(-70, 70, by=5) \n",
        "label_Range1 <- seq(-70,-5,5)\n",
        "label_Range2 <- seq(5,70,5)\n",
        "label <- c(label_Range1,label_Range2) #lets set some labels for the lattitude bins\n",
        "midpoint_latitudes$Lat.bins <- cut(midpoint_latitudes$lats, breaks=range, labels=label) \n",
        "#adds another column to the cormorant dataset binning the midpoints by the preselected \n",
        "#range sizes, and with the associated labels\n",
        "midpoint_latitudes$Lat.bins<-as.numeric(as.character(midpoint_latitudes$Lat.bins)) \n",
        "#make sure the new generated values are numeric, rather than characters... \n",
        "hist(midpoint_latitudes$Lat.bins, breaks = 7) #number of species by lattutitude\n",
        "#boxplot(midpoint_latitudes$Body.Mass~midpoint_latitudes$Lat.bins) #creates a simple boxplot"
      ],
      "execution_count": null,
      "outputs": []
    },
    {
      "cell_type": "markdown",
      "metadata": {
        "id": "S528eFO1sdo5"
      },
      "source": [
        "Now we've binned our species by latitude, we can see that species richness peaks between "
      ]
    },
    {
      "cell_type": "markdown",
      "metadata": {
        "id": "OQdo5zoAsdsQ"
      },
      "source": [
        ""
      ]
    },
    {
      "cell_type": "markdown",
      "metadata": {
        "id": "AbMQrv85sdvl"
      },
      "source": [
        ""
      ]
    },
    {
      "cell_type": "code",
      "metadata": {
        "id": "PZP10NxCAYFK"
      },
      "source": [
        "system(\"sudo apt-get install libgdal-dev libproj-dev libgeos-dev libudunits2-dev libv8-dev libprotobuf-dev libjq-dev libgeos-3.8.1\")"
      ],
      "execution_count": null,
      "outputs": []
    },
    {
      "cell_type": "code",
      "metadata": {
        "id": "mrIB0iG-BTPK"
      },
      "source": [
        "system(\"sudo apt-get update\")"
      ],
      "execution_count": null,
      "outputs": []
    },
    {
      "cell_type": "code",
      "metadata": {
        "id": "438-wz8hFoRr"
      },
      "source": [
        "system(\"sudo apt-get install libudunits2-dev\")"
      ],
      "execution_count": null,
      "outputs": []
    },
    {
      "cell_type": "code",
      "metadata": {
        "id": "QsQ3RsYJDFHr"
      },
      "source": [
        "system(\"sudo apt-get install -y libv8-dev\")"
      ],
      "execution_count": null,
      "outputs": []
    },
    {
      "cell_type": "code",
      "metadata": {
        "id": "OX8vUYhNHSgq"
      },
      "source": [
        "system(\"sudo apt-get install libprotobuf-dev\")"
      ],
      "execution_count": null,
      "outputs": []
    },
    {
      "cell_type": "code",
      "metadata": {
        "id": "nU4Y-S5KHyUf"
      },
      "source": [
        "system(\"sudo apt-get install libjq-dev\")"
      ],
      "execution_count": null,
      "outputs": []
    },
    {
      "cell_type": "code",
      "metadata": {
        "id": "qvpEZO43EbEF"
      },
      "source": [
        "system(\"sudo apt-get install libgeos-3.8.1\")"
      ],
      "execution_count": null,
      "outputs": []
    },
    {
      "cell_type": "markdown",
      "metadata": {
        "id": "x4-yozgdwAIK"
      },
      "source": [
        "### 6. Using the Tidyverse\n",
        "\n",
        "We have chosen to teach the BCB practicals predominantly using base `R`. This is because anyone new to `R` needs to learn how base `R` works first. However, more and more researchers are choosing to use a group of packages for data handling called the `tidyverse`. These packages provide a slightly different way of coding in `R`, which makes data handling easier. I've already mentioned `ggplot2`, a `tidyverse` package, and one of the most useful in `R`!. We'll cover a few key packages for some  of the practical tasks, but if you'd like to know about coding in the 'tidy' way: \n",
        "\n",
        "https://www.tidyverse.org/"
      ]
    }
  ]
}
