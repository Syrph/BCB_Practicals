{
  "nbformat": 4,
  "nbformat_minor": 0,
  "metadata": {
    "kernelspec": {
      "name": "ir",
      "display_name": "R",
      "language": "R"
    },
    "language_info": {
      "name": "R",
      "codemirror_mode": "r",
      "pygments_lexer": "r",
      "mimetype": "text/x-r-source",
      "file_extension": ".r",
      "version": "3.6.3"
    },
    "colab": {
      "name": "Practical 4 (1).ipynb",
      "provenance": [],
      "collapsed_sections": [],
      "toc_visible": true
    }
  },
  "cells": [
    {
      "cell_type": "markdown",
      "metadata": {
        "id": "z5y74nEPOpks"
      },
      "source": [
        "## EDGE Scores and Conservation Strategy"
      ]
    },
    {
      "cell_type": "code",
      "metadata": {
        "id": "THjMv4JD2N41",
        "cellView": "form"
      },
      "source": [
        "#@title ### Run to set up notebook (Takes ~ 15 minutes).\n",
        "# Clone github repository, install spatial dependencies for linux, install R packages\n",
        "dir.create(\"My Git Repo\")\n",
        "git2r::clone(\"https://github.com/Syrph/BCB_Practicals\", \"My Git Repo\")\n",
        "setwd(\"My Git Repo\")\n",
        "system(\"sudo apt-get update\")\n",
        "system(\"sudo apt-get install libgdal-dev libproj-dev libgeos-dev libudunits2-dev libv8-dev libprotobuf-dev libjq-dev\")\n",
        "source(\"install.R\")\n",
        "\n",
        "# Load in all the accip maps and combine them into one big sp datafame\n",
        "library(rgdal)\n",
        "library(raster)\n",
        "library(dplyr)\n",
        "\n",
        "# Get the file names that are Rdata objects\n",
        "file_names <- list.files()\n",
        "indices <- grep(\"*Rdata\", file_names)\n",
        "file_names <- file_names[indices]\n",
        "\n",
        "# load in the first map and create a vector ready\n",
        "load(\"Accipiter_albogularis_maps.Rdata\")\n",
        "assign(\"Accipiter_albogularis_maps\", species_map)\n",
        "Accip_maps <- Accipiter_albogularis_maps\n",
        "\n",
        "# Load in the rest of the maps and combine them\n",
        "for (file in file_names[2:248]){\n",
        "  name <- gsub(\".Rdata\", \"\", file)\n",
        "  load(file)\n",
        "  assign(name, species_map)\n",
        "  Accip_maps <- rbind(Accip_maps, get(name))\n",
        "}\n",
        "\n",
        "# Save it back as an R.data object\n",
        "save(Accip_maps, file = \"Accipitridae_maps.Rdata\")\n",
        "rm(list=ls())\n",
        "\n",
        "# Remove the packages for students to load back in later\n",
        "detach(\"package:raster\", unload = TRUE)\n",
        "detach(\"package:rgdal\", unload = TRUE)\n",
        "detach(\"package:dplyr\", unload= TRUE)"
      ],
      "execution_count": null,
      "outputs": []
    },
    {
      "cell_type": "markdown",
      "metadata": {
        "id": "AjpSsqrqpPIG"
      },
      "source": [
        "### 1. Introduction and resources\n",
        "\n",
        "This practical is aimed to introduce you to the EDGE & FUDGE Scores that you'll need for your conservation strategy coursework. Put briefly, these scores balance the distinctiveness of species against their risk of extinction to detirmine conservation priorities. You can find out more information about EDGE scores from the ZSL website: \n",
        "\n",
        "https://www.zsl.org/conservation/our-priorities/wildlife-back-from-the-brink/animals-on-the-edge \n",
        "\n",
        "We will also try plotting a simple map of IUCN categories so we can visual the risk to our clade across the globe.\n",
        "\n",
        "### 2. Preparing your Data\n",
        "\n",
        "To calculate EDGE metrics, we need data on the species we're interested in, and their phylogenetic relationship. For the coursework we're interested in EDGE scores for a specific clade, however it's also common to look at areas such as national parks. \n",
        "\n",
        "For this practical we're going to use the same family as Practical 3, Accipitridae. We'll use the same table of traits from Practical 3 to import our data and filter it. "
      ]
    },
    {
      "cell_type": "code",
      "metadata": {
        "trusted": true,
        "id": "wsuR8QQTpPIH"
      },
      "source": [
        "trait_data <- read.csv(\"coursework_trait_data.csv\")\n",
        "str(trait_data)\n",
        "head(trait_data)"
      ],
      "execution_count": null,
      "outputs": []
    },
    {
      "cell_type": "markdown",
      "metadata": {
        "id": "WcgSCXRHQ__g"
      },
      "source": [
        "And again filter for Accipitridae."
      ]
    },
    {
      "cell_type": "code",
      "metadata": {
        "id": "MqIQpCeZRKvp"
      },
      "source": [
        "library(dplyr)\n",
        "Accip_data <- trait_data %>% filter(Jetz_family == \"Accipitridae\")\n",
        "nrow(Accip_data)"
      ],
      "execution_count": null,
      "outputs": []
    },
    {
      "cell_type": "markdown",
      "metadata": {
        "id": "M3cRwnojNCEM"
      },
      "source": [
        "Because we're going to use EDGE scores, we should check for any extinct species we need to remove. "
      ]
    },
    {
      "cell_type": "code",
      "metadata": {
        "id": "L0TD3Sp9NL-z"
      },
      "source": [
        "# This operator | means OR. EW means extinct in the wild.\n",
        "Accip_data %>% filter(Redlist_cat == \"EX\" | Redlist_cat == \"EW\")"
      ],
      "execution_count": null,
      "outputs": []
    },
    {
      "cell_type": "markdown",
      "metadata": {
        "id": "6eG_mchV3fF2"
      },
      "source": [
        "Great, no extinct species in this family! There shouldn't really be many in our Jetz phylogeny, but some do turn up occasionally.\n",
        "\n",
        "Now we need to load in our tree. For this practical we're using a random tree extracted from http://birdtree.org/\n",
        "\n",
        "Because we're not sure on the exact placement of some species tips, the Jetz tree has multiple versions, each with a slightly different layout. Normally this only means a few species have swapped places slighly. This is why we've chosen a random tree for our analysis. There are other (better) methods for dealing with this uncertainty, but for these practicals it will be enough to use a random tree. If you're interested in these methods then this is a good paper to check out:\n",
        "\n",
        "https://academic.oup.com/cz/article/61/6/959/1800551"
      ]
    },
    {
      "cell_type": "code",
      "metadata": {
        "id": "ryuvAHB9SerR"
      },
      "source": [
        "library(ape)\n",
        "library(caper)\n",
        "\n",
        "# Load in and plot the tree\n",
        "bird_tree <- read.tree(\"all_birds.tre\")\n",
        "plot(bird_tree)"
      ],
      "execution_count": null,
      "outputs": []
    },
    {
      "cell_type": "markdown",
      "metadata": {
        "id": "ec-I5JBepPIN"
      },
      "source": [
        "### 2. ED Scores\n",
        "\n",
        "Now that we've got our tree and our species we can start calculating our ED (Evolutionary Distinctiveness) scores. Because we are calculating the evolutionary distinctiveness of Accipitridae, we want to use the whole bird phylogeny to compare against. Then we can find then out if our species in the UK are very closely related to others in the tree, or represent distinct lineages that might want to conserve to protect valuable evolutionary diversity.\n",
        "\n",
        "We can do this easily using a simple function from the `caper` package. This sometimes takes a while to run."
      ]
    },
    {
      "cell_type": "code",
      "metadata": {
        "trusted": true,
        "id": "LKBhNXaCpPIN"
      },
      "source": [
        "# We can first transform our tree into a matrix of distances from each tip to tip. This step is optional but stops a warning message from ed.calc, which prefers a matrix to a tree.\n",
        "bird_matrix <- clade.matrix(bird_tree)\n",
        "\n",
        "# Now we can run the ed.calc function, which calculates ED scores for each species. The output gives two dataframes, but we only want the species names and scores so we use $spp\n",
        "ED <- ed.calc(bird_matrix)$spp\n",
        "head(ED)"
      ],
      "execution_count": null,
      "outputs": []
    },
    {
      "cell_type": "markdown",
      "metadata": {
        "id": "QiqFvM2NvqoI"
      },
      "source": [
        "Now that we've got our ED scores for each species, we need to log transform and normalise our scores. "
      ]
    },
    {
      "cell_type": "code",
      "metadata": {
        "trusted": true,
        "id": "XWgPpzH-pPIR"
      },
      "source": [
        "# By adding 1 to our scores, this prevents negative logs when our ED scores are below 1. \n",
        "ED$EDlog <- log(1+ED$ED)\n",
        "\n",
        "# We can normalise our scores so they're scaled between 0 and 1\n",
        "ED$EDn <- (ED$EDlog - min(ED$EDlog)) / (max(ED$EDlog) - min(ED$EDlog))\n",
        "head(ED)"
      ],
      "execution_count": null,
      "outputs": []
    },
    {
      "cell_type": "markdown",
      "metadata": {
        "id": "tjUM5K80y1J8"
      },
      "source": [
        "Now that we have our normalised scores for all birds, we need to subset the list for just Accipitridae."
      ]
    },
    {
      "cell_type": "code",
      "metadata": {
        "trusted": true,
        "id": "7rrvl3NEpPIV"
      },
      "source": [
        "# Pull out the ED row numbers for our species list.\n",
        "row_numbers <- (ED$species %in% Accip_data$Jetz_Name)\n",
        "\n",
        "# Get our UK species with ED scores\n",
        "Accip_ED <- ED[row_numbers,]\n",
        "str(Accip_ED)"
      ],
      "execution_count": null,
      "outputs": []
    },
    {
      "cell_type": "markdown",
      "metadata": {
        "id": "sK2crcuGNFO1"
      },
      "source": [
        "We now have the ED scores of 237 species in Accipitridae. With these scores we can see how unique our species are in terms of the evolutionary pathway."
      ]
    },
    {
      "cell_type": "code",
      "metadata": {
        "id": "XfpWHsyIIb8F"
      },
      "source": [
        "# Find the highest ED score\n",
        "Accip_ED[Accip_ED$EDn == max(Accip_ED$EDn),]"
      ],
      "execution_count": null,
      "outputs": []
    },
    {
      "cell_type": "markdown",
      "metadata": {
        "id": "uwl6itYu_keb"
      },
      "source": [
        "The highest ED scores belong to *Chelictinia riocourii*,  the scissor-tailed kite, and *Gampsonyx swainsonii*, the pearl kite. Both species are the only member of a monotypic genus, and part of the small subfamily Elaninae, the elanine kites. This subfamily only has six species, and all the others form one genus. Therefore, with so few close relatives, we might consider this species a conservation priority to protect as much diversity as we can. However we don't yet know if this species needs conserving...\n",
        "\n",
        "### 3. EDGE Scores\n",
        "\n",
        "This is where EDGE scores come in. By combining ED scores with IUCN categories we can select the species that need conservation action, and represent unique evolutionary variation.\n",
        "\n",
        "First we need to convert the IUCN status in GE (Globally Endangered) scores. This is relatively simple as we're just assigning numeric rankings, but we'll use a for loop to practice our skills! We'll also use an `if` statement as well because we have two catergories with the same GE score (near threatened and deficient)."
      ]
    },
    {
      "cell_type": "code",
      "metadata": {
        "trusted": true,
        "id": "5wgxoc32pPIX"
      },
      "source": [
        "# Create an empty column to store our GE scores.\n",
        "Accip_data$GE <- NA\n",
        "\n",
        "# Create a vector to increase with each new ranking, starting at 0 for least concern.\n",
        "i <- 0\n",
        "\n",
        "# Create a list to loop through in the order of GE scores.\n",
        "redlist_cats <- c(\"LC\", \"NT\", \"DD\", \"VU\", \"EN\", \"CR\")\n",
        "\n",
        "# Loop through each different category in the redlist categories.\n",
        "for (category in redlist_cats){\n",
        "\n",
        "  # Add the GE score for that category.\n",
        "  Accip_data[Accip_data$Redlist_cat == category, \"GE\"] <- i\n",
        "  \n",
        "  # Because DD comes after NT, and both are scored as 1, don't want to change i if the category is NT.\n",
        "  # We can use an if statement to do this. != means not equal to. \n",
        "  if (category != \"NT\"){\n",
        "    i = i + 1\n",
        "  }\n",
        "}"
      ],
      "execution_count": null,
      "outputs": []
    },
    {
      "cell_type": "code",
      "metadata": {
        "id": "vrVAYuwpXEJ3"
      },
      "source": [
        "unique(Accip_data$Redlist_cat)"
      ],
      "execution_count": null,
      "outputs": []
    },
    {
      "cell_type": "code",
      "metadata": {
        "id": "6xhChxWjXOQn"
      },
      "source": [
        "unique(Accip_data$GE)"
      ],
      "execution_count": null,
      "outputs": []
    },
    {
      "cell_type": "markdown",
      "metadata": {
        "id": "r6GfCAvzEojI"
      },
      "source": [
        "Now we'll merge our GE scores with our ED scores in one dataframe."
      ]
    },
    {
      "cell_type": "code",
      "metadata": {
        "trusted": true,
        "id": "6lk0ucuWpPIb"
      },
      "source": [
        "# Join the last two columns of UK_Jetz to ED scores. This time we'll use the 'by' arguement rather than change the column names.\n",
        "Accip_EDGE <- left_join(Accip_data, Accip_ED,  by = c(\"Jetz_Name\" = \"species\"))\n",
        "head(Accip_EDGE)"
      ],
      "execution_count": null,
      "outputs": []
    },
    {
      "cell_type": "markdown",
      "metadata": {
        "id": "5t-dAjxFGleH"
      },
      "source": [
        "We can now calculate our EDGE scores using some simple maths:\n",
        "\n",
        "$$EDGE=ln⁡(1+ED)+GE×ln⁡(2)$$\n",
        "\n",
        "We have already done the first half. Now we just need to multiply GE scores by the natural log of 2, and combine them."
      ]
    },
    {
      "cell_type": "code",
      "metadata": {
        "trusted": true,
        "id": "Xb-sk_aepPId"
      },
      "source": [
        "# The log function uses natural logarithims by default.\n",
        "Accip_EDGE$EDGE <- Accip_EDGE$EDlog + Accip_EDGE$GE * log(2)\n",
        "head(Accip_EDGE)"
      ],
      "execution_count": null,
      "outputs": []
    },
    {
      "cell_type": "markdown",
      "metadata": {
        "id": "Gw-di8ztNRXW"
      },
      "source": [
        "Now we have our EDGE scores, we can see if our conservation priority has changed in light of IUCN categories."
      ]
    },
    {
      "cell_type": "code",
      "metadata": {
        "trusted": true,
        "id": "rQOR4A-gpPIf"
      },
      "source": [
        "# Find the highest EDGE score.\n",
        "Accip_EDGE[Accip_EDGE$EDGE == max(Accip_EDGE$EDGE),]\n",
        "\n",
        "# Find the EDGE score for our previous highest species.\n",
        "Accip_EDGE[Accip_EDGE$Jetz_Name == \"Chelictinia_riocourii\",]\n",
        "Accip_EDGE[Accip_EDGE$Jetz_Name == \"Gampsonyx_swainsonii\",]"
      ],
      "execution_count": null,
      "outputs": []
    },
    {
      "cell_type": "markdown",
      "metadata": {
        "id": "y8PjEG50Ou1i"
      },
      "source": [
        "So now we can see that the top conservation priority is Pithecophaga jefferyi\tPhilippine Eagle. Whilst our previous kites are still high, their low IUCN score means its less of a priority than P. jefferyi, which is critically endangered. \n",
        "\n",
        "In reality, you want to preserve more than just one species! We can see from the spread of EDGE scores that there are few species with high EDGE scores, and we would ideally like to create a plan that maximises the conservation of all of them (if it's possible). Based on your own taxa you'll decide what constitutes a high EDGE score."
      ]
    },
    {
      "cell_type": "code",
      "metadata": {
        "trusted": true,
        "id": "xB0qQkyIpPIh"
      },
      "source": [
        "hist(Accip_EDGE$EDGE, breaks = 20)"
      ],
      "execution_count": null,
      "outputs": []
    },
    {
      "cell_type": "code",
      "metadata": {
        "trusted": true,
        "id": "VsyHtywDpPIj"
      },
      "source": [
        "# With the filter function we can split our dataframes based on rules for certain columns.\n",
        "Accip_EDGE %>% filter(EDGE > 5)"
      ],
      "execution_count": null,
      "outputs": []
    },
    {
      "cell_type": "markdown",
      "metadata": {
        "id": "CLWw3of8Qf_v"
      },
      "source": [
        "### 4. FUDGE Scores\n",
        "\n",
        "Instead of evolutionary distinctiveness, we might instead be interested in what functional traits each species provides. Species with low functional diversity may be 'functionally redundant' in the ecosystem, whereas those with high functional diversity may provide key ecosystem services that aren't easily replaceable. \n",
        "\n",
        "Unlike ED, we will not calculate functional distinctiveness (FD and FDn) in relation to all species within the order worldwide. Instead, we will calculate FD and FDn for just our chosen species. The reason for this is that FD is traditionally used in the context of a specific community or radiation of species (i.e. all birds found within a national park, or all species of lemur)."
      ]
    },
    {
      "cell_type": "markdown",
      "metadata": {
        "id": "ZQsmzeJQdNiN"
      },
      "source": [
        "We need to change row names to species names and remove all the columns except traits. Then normalise our trait data so that body_mass and beak have the same scale (the same variance). \n"
      ]
    },
    {
      "cell_type": "code",
      "metadata": {
        "trusted": true,
        "id": "bB1og0zPpPIm"
      },
      "source": [
        "# Make a copy of Accip Data\n",
        "Accip_traits <- Accip_EDGE\n",
        "\n",
        "# Change row names and keep just trait data.\n",
        "rownames(Accip_traits) <- Accip_traits$Jetz_Name\n",
        "Accip_traits <- Accip_traits[,6:7]\n",
        "\n",
        "# Make each column have the same scale.\n",
        "Accip_traits <- scale(Accip_traits, scale=T)\n",
        "head(Accip_traits)"
      ],
      "execution_count": null,
      "outputs": []
    },
    {
      "cell_type": "markdown",
      "metadata": {
        "id": "hd65iG0QgpRf"
      },
      "source": [
        "To calculate functional diversity we'll create a distance matrix of our traits. Species with similar traits will have smaller 'distances'."
      ]
    },
    {
      "cell_type": "code",
      "metadata": {
        "id": "3-Rz34MIiKpn"
      },
      "source": [
        "# Create a matrix\n",
        "traits_matrix <- as.matrix(Accip_traits)\n",
        "\n",
        "# Converts traits into 'distance' in trait space.\n",
        "distance_matrix <- dist(traits_matrix)"
      ],
      "execution_count": null,
      "outputs": []
    },
    {
      "cell_type": "markdown",
      "metadata": {
        "id": "5ekdx2_zizei"
      },
      "source": [
        "The next step is to create a new tree using the neighbour-joining method (Saitou & Nei, 1987) (Google for more information!). This will create a tree where branch lengths show how similar species are in trait space rather than evolutionary distance. This function may take a while with more species so don't be alarmed if the group you've chosen takes much longer."
      ]
    },
    {
      "cell_type": "code",
      "metadata": {
        "id": "bWJrol9liLD5"
      },
      "source": [
        "# Create the tree\n",
        "trait_tree <- nj(distance_matrix)\n",
        "\n",
        "# Test to see if it's worked. The tree looks different to a normal one because tips don't line up neatly at the present time period like with evolutionary relationships.\n",
        "plot(trait_tree, cex=0.4)"
      ],
      "execution_count": null,
      "outputs": []
    },
    {
      "cell_type": "markdown",
      "metadata": {
        "id": "ij66GZRCkmgM"
      },
      "source": [
        "FD trees can fail if there are too many NAs in the data. If this is the case for your taxa, either impute missing data using genus averages (following Swenson et al. 2013) or remove species or traits with high NA counts from FD analysis. Note, however, that the bird data is very complete so there should be no need to remove NA species from the dataset; this should be a last resort so only do this if the analyses are failing repeatedly.\n",
        "\n",
        "With our tree of functional space, we can now calculate FD scores the same way we calculated ED scores. "
      ]
    },
    {
      "cell_type": "code",
      "metadata": {
        "id": "Hmmzqn0Xjt7q"
      },
      "source": [
        "# Create a matrix of distance from tip to tip.\n",
        "tree_matrix <- clade.matrix(trait_tree)\n",
        "\n",
        "# Calculate FD scores.\n",
        "FD <- ed.calc(tree_matrix)$spp\n",
        "\n",
        "# Change the name to FD\n",
        "colnames(FD)[2] <- \"FD\"\n",
        "head(FD)"
      ],
      "execution_count": null,
      "outputs": []
    },
    {
      "cell_type": "markdown",
      "metadata": {
        "id": "OUn--RgWnBeD"
      },
      "source": [
        "Log and normalise the data as we did before with ED so we could compare FD scores from different groups. "
      ]
    },
    {
      "cell_type": "code",
      "metadata": {
        "id": "JyV05roonRUf"
      },
      "source": [
        "FD$FDlog <- log(1+FD$FD)\n",
        "FD$FDn <- (FD$FDlog - min(FD$FDlog)) / (max(FD$FDlog) - min(FD$FDlog))\n",
        "\n",
        "# Find the highest FD score\n",
        "FD[FD$FDn == max(FD$FDn),]"
      ],
      "execution_count": null,
      "outputs": []
    },
    {
      "cell_type": "markdown",
      "metadata": {
        "id": "w_th-vCVnVh9"
      },
      "source": [
        "So the species with the largest FD score is\t*Gyps himalayensis*, the Himalayan Griffon. Not suprising seeing as Himalayan Griffons are one of the heaviest flying birds alive today! We can also combine GE scores to see how IUCN categories change our priorities. We use the same formula as before:\n",
        "\n",
        "$$FUDGE=ln⁡(1+FD)+GE×ln⁡(2)$$"
      ]
    },
    {
      "cell_type": "code",
      "metadata": {
        "id": "klm52fR9ovXC"
      },
      "source": [
        "# Join FD and GE scores\n",
        "Accip_FUDGE <- left_join(Accip_data, FD, by = c(\"Jetz_Name\" = \"species\"))\n",
        "\n",
        "# Calculate FUDGE scores\n",
        "Accip_FUDGE$FUDGE <- Accip_FUDGE$FDlog + Accip_FUDGE$GE * log(2)\n",
        "head(Accip_FUDGE)"
      ],
      "execution_count": null,
      "outputs": []
    },
    {
      "cell_type": "markdown",
      "metadata": {
        "id": "b8zEiMCUqFoI"
      },
      "source": [
        "And does IUCN categories change our conservation priorities?"
      ]
    },
    {
      "cell_type": "code",
      "metadata": {
        "id": "Bh2kUorRqGJp"
      },
      "source": [
        "# Find the highest EDGE score\n",
        "Accip_FUDGE[Accip_FUDGE$FUDGE == max(Accip_FUDGE$FUDGE),]\n",
        "\n",
        "# Find the EDGE score for Gyps himalayensis\n",
        "Accip_FUDGE[Accip_FUDGE$Jetz_Name == \"Gyps_himalayensis\",]"
      ],
      "execution_count": null,
      "outputs": []
    },
    {
      "cell_type": "markdown",
      "metadata": {
        "id": "iQPcEA7mqkai"
      },
      "source": [
        "Yes! Funnily enough the Philippine Eagle is again the species we need to check. This may be because the GE component of FUDGE scores is weighted much higher than the FD component. In fact, looking at FD, the Himalayan Griffon has a higher score. "
      ]
    },
    {
      "cell_type": "code",
      "metadata": {
        "id": "uVzfNRuKrWrw"
      },
      "source": [
        "# Get the top 5% of FD scores.\n",
        "Accip_FUDGE[Accip_FUDGE$FD > quantile(Accip_FUDGE$FD, 0.95),]"
      ],
      "execution_count": null,
      "outputs": []
    },
    {
      "cell_type": "code",
      "metadata": {
        "id": "pX0krCzYtEuw"
      },
      "source": [
        "# Get the top 5% of FUDGE scores.\n",
        "Accip_FUDGE[Accip_FUDGE$FUDGE > quantile(Accip_FUDGE$FUDGE, 0.95),]"
      ],
      "execution_count": null,
      "outputs": []
    },
    {
      "cell_type": "markdown",
      "metadata": {
        "id": "puH2hT8CtWF4"
      },
      "source": [
        "As we can see, all of the higest FUDGE scores are critically endangered. This has been a criticism of FUDGE scores, that functional diversity isn't weighted highly enough. Of course for our taxa these are probably the species we want to protect, and maybe GE should be the more pressing issue. However if your taxa has very few CR species, it's worth checking FD scores as well, as you may want to adjust your GE scores to give more weighting to FD."
      ]
    },
    {
      "cell_type": "markdown",
      "metadata": {
        "id": "2Dm0Omc8mEQ8"
      },
      "source": [
        "### 5. EcoEDGE Scores\n",
        "\n",
        "So we've used EDGE scores to combine extinction risk with evolutionary diversity, and FUDGE scores to do the same with functional diversity. However, both are important, and we might want to combine all three into one metric. This is exactly what EcoEDGE scores do. And we've pretty much done all the hard work already. The equation is similar to the ones we've used, but we give ED and FD scores equal weighting:\n",
        "\n",
        "$$EcoEDGE= (0.5×EDn + 0.5×FDn) + GE×ln⁡(2)$$\n",
        "\n",
        "And remember our EDn and FDn scores have already been logged, so we don't need to log them now."
      ]
    },
    {
      "cell_type": "code",
      "metadata": {
        "id": "neqs-Wqep4Ca"
      },
      "source": [
        "# Merge FD and ED scores.\n",
        "Accip_EcoEDGE <- left_join(Accip_EDGE, Accip_FUDGE)\n",
        "\n",
        "# Calculate EcoEDGE scores\n",
        "Accip_EcoEDGE$EcoEDGE <- (0.5*Accip_EcoEDGE$EDn + 0.5*Accip_EcoEDGE$FDn) + Accip_EcoEDGE$GE*log(2)\n",
        "head(Accip_EcoEDGE)"
      ],
      "execution_count": null,
      "outputs": []
    },
    {
      "cell_type": "markdown",
      "metadata": {
        "id": "3db0f2YYqh4X"
      },
      "source": [
        "We can again look at the spread and see which are the highest species."
      ]
    },
    {
      "cell_type": "code",
      "metadata": {
        "id": "xVgSumbgql2I"
      },
      "source": [
        "# Get the highest scoring species\n",
        "Accip_EcoEDGE[Accip_EcoEDGE$EcoEDGE == max(Accip_EcoEDGE$EcoEDGE),]\n",
        "\n",
        "# Get the top 10% of EcoEDGE scores.\n",
        "Accip_EcoEDGE[Accip_EcoEDGE$EcoEDGE > quantile(Accip_EcoEDGE$EcoEDGE, 0.9),]\n",
        "\n",
        "# See the spread\n",
        "hist(Accip_EcoEDGE$EcoEDGE, breaks = 20)"
      ],
      "execution_count": null,
      "outputs": []
    },
    {
      "cell_type": "markdown",
      "metadata": {
        "id": "ldgR_AbosslT"
      },
      "source": [
        "Unsuprisingly, the \tPhilippine Eagle is again the highest species. However, most birds in Accipitridae are not currently threatened by extinction according to IUCN criteria. For your own taxa, this may be a very different story, and ED and FD scores may matter a lot more. It's also up to you if you want to down weight GE scores, or you agree that conservation priority goes to those species most threatened with extinction. How you chose to interpret and present your results is up to you, and will depend on the group that you've chosen.\n",
        "\n",
        "For the practicals and coursework we've chosen to use a simplified version of EcoEDGE scores. If you're interested in learning more, check out this paper which first proposed the use of EcoEDGE scores:\n",
        "\n",
        "https://onlinelibrary.wiley.com/doi/full/10.1111/ddi.12320\n",
        "\n"
      ]
    },
    {
      "cell_type": "markdown",
      "metadata": {
        "id": "36Wv1K8JvGbW"
      },
      "source": [
        "### 6. Plotting a map of IUCN categories.\n",
        "\n",
        "You may wish to plot maps of your IUCN redlist categories, especially if you're intersted in what areas of the world are most threatened by extinction. We can do this easily using similar code from practical 3. "
      ]
    },
    {
      "cell_type": "code",
      "metadata": {
        "id": "FC41Fva9vlSV"
      },
      "source": [
        "# First load in the spatial packages we'll need\n",
        "library(raster)\n",
        "library(rgdal)\n",
        "library(sf)\n",
        "library(geosphere)\n",
        "\n",
        "\n",
        "# Load the data into our environment\n",
        "load(\"Accipitridae_maps.Rdata\")\n",
        "\n",
        "# Inspect the maps\n",
        "class(Accip_maps)\n",
        "head(Accip_maps)"
      ],
      "execution_count": null,
      "outputs": []
    },
    {
      "cell_type": "markdown",
      "metadata": {
        "id": "pN-kSdvpNeYu"
      },
      "source": [
        "We'll run the same code as before to compile our spatial dataframe into a raster stack. The only difference is this time we're assigning a value to each species layer, corresponding with their GE rating."
      ]
    },
    {
      "cell_type": "code",
      "metadata": {
        "id": "JnFGZzHdNjHf"
      },
      "source": [
        "# Start by creating an empty raster stack to store our data in.\n",
        "raster_stack <- raster(ncols=2160, nrows = 900, ymn = -60)\n",
        "\n",
        "# Open a for loop which will cycle through each row of our EcoEDGE table. We used i as rownumber because we want multiple columns in different parts of the loop.\n",
        "for (i in 1:nrow(Accip_EcoEDGE)) {\n",
        "\n",
        "  # We want to subset our range maps for each species and only the range maps in which it is present now (not historical). \n",
        "  map_data_i <- subset(Accip_maps, Accip_maps$SCINAME == Accip_EcoEDGE$Birdlife_Name[i])  \n",
        "  map_data_i <- subset(map_data_i, map_data_i$PRESENCE %in% c(1,2,3))\n",
        "  \n",
        "  # Combine the different ranges (Shapefiles) and convert to a Spatial Polygon.\n",
        "  map_i <- as_Spatial(st_combine(map_data_i$Shape))\n",
        "  \n",
        "  # Convert this Spatial Polygon into a raster with dimensions == raster_stack. Value = 1 if pixel is inside the polygon (range).\n",
        "  raster_i <- rasterize(map_i, raster_stack)\n",
        "  \n",
        "  # Areas with a value of 1 are inside the range. We need to convert this to the GE score.\n",
        "  raster_i[raster_i == 0] <- NA\n",
        "  raster_i[raster_i == 1] <- Accip_EcoEDGE$GE[i] \n",
        "  \n",
        "  # Lastly we want to add our finished range map (coded for different GE scores) to our stack to store for later.\n",
        "  raster_stack <- addLayer(raster_stack, raster_i) \n",
        "\n",
        "}"
      ],
      "execution_count": null,
      "outputs": []
    },
    {
      "cell_type": "markdown",
      "metadata": {
        "id": "TAiU8rJdPh7g"
      },
      "source": [
        "Now we've created our stack of range maps, and each are coded for their IUCN category. In this case we'll take the maximum GE score as the one that's shown. So if two ranges overlap, we take the largest score."
      ]
    },
    {
      "cell_type": "code",
      "metadata": {
        "id": "I2ww_oqxPT79"
      },
      "source": [
        "# Combine all layers in the stack together to produce a final raster_layer.\n",
        "# By using fun = max, we're asking the function to pick the highest GE score. You can change this if you wanted the average instead.\n",
        "# You could also change the indices arguement and replace with Accip_EcoEDGE$GE if you wanted a separate map for each GE score.\n",
        "final_layer <- stackApply(raster_stack, rep(1, nlayers(raster_stack)), fun = max)\n",
        "\n",
        "# Resize the plot window and plot.\n",
        "options(repr.plot.width=15, repr.plot.height=15)\n",
        "plot(final_layer)"
      ],
      "execution_count": null,
      "outputs": []
    },
    {
      "cell_type": "markdown",
      "metadata": {
        "id": "BF44fjT9QkQm"
      },
      "source": [
        "So now you can see the spread of GE scores throughout the globe. For your own species you may wish to focus on a specific area of Earth using the `crop()` function. Again we'll use ggplot2 to make them a little nicer to look at."
      ]
    },
    {
      "cell_type": "code",
      "metadata": {
        "id": "UyjHvmVjTWr-"
      },
      "source": [
        "library(tidyr)\n",
        "library(ggplot2)\n",
        "\n",
        "# Convert the raster into a raster dataframe. This will be coordinates of the raster pixels (cols x and y) and the value of the raster pixels (col index_1). Remove rows with NA values from this dataframe.\n",
        "raster_data <- as.data.frame(final_layer, xy=TRUE) %>% drop_na()\n",
        "colnames(raster_data) <- c(\"long\", \"lat\", \"index\")\n",
        "\n",
        "# Turn the GE score values to a factor to give a discrete raster rather than continuous values.\n",
        "raster_data$index <- as.factor(raster_data$index)\n",
        "\n",
        "# we can then plot this in ggplot. We have to first create the color scheme for our map.\n",
        "# The six character codes (hexcodes) signify a color. There are many stock colors (i.e. \"grey80\" yellow\" \"orange\" \"red\") but hexcodes give more flexibility. \n",
        "# Find color hexcodes here: https://www.rapidtables.com/web/color/RGB_Color.html\n",
        "myColors <- c(\"grey80\", \"grey80\", \"#FCF7B7\", \"#FFD384\", \"#FFA9A9\")\n",
        "\n",
        "# Assign names to these colors that correspond to each GE score. We also use the sort() function to make sure the numbers are in asscending order.\n",
        "names(myColors) <- unique(sort(raster_data$index))\n",
        "\n",
        "# Create the color scale.\n",
        "colScale <- scale_fill_manual(name = \"IUCN Status\", values = myColors)\n",
        "\n",
        "\n",
        "# Create a plot with ggplot (the plus signs at the end of a line carry over to the next line).\n",
        "GE_plot <- ggplot() +\n",
        "  # borders imports all the country outlines onto the map. colour changes the color of the outlines, fill changes the color of the insides of the countries\n",
        "  # this will grey out any terrestrial area which isn't part of a range.\n",
        "  borders(ylim = c(-60,90), fill = \"grey90\", colour = \"grey90\") +\n",
        "  \n",
        "  # Borders() xlim is -160/200 to catch the edge of russia. We need to reset the xlim to -180/180 to fit our raster_stack.\n",
        "  xlim(-180, 180) + \n",
        "\n",
        "  # Add the GE information on top.\n",
        "  geom_tile(aes(x = long, y = lat, fill = index), data = raster_data) +\n",
        "  colScale +\n",
        "  ggtitle(\"Accipitridae Threat Map\") + \n",
        "  theme_classic() +\n",
        "  ylab(\"Latitude\") + \n",
        "  xlab(\"Longitude\") + coord_fixed() # coord_fixed() makes ggplot keep our aspect ratio the same, rather than stretching the plot to fit all available space.\n",
        "\n",
        "# Resize the plotting window and return the plot so we can view it.\n",
        "options(repr.plot.width=15, repr.plot.height=15)\n",
        "GE_plot"
      ],
      "execution_count": null,
      "outputs": []
    },
    {
      "cell_type": "markdown",
      "metadata": {
        "id": "n6uZFwhhW1xc"
      },
      "source": [
        "There's our finished map! Think how you'd change it yourself if you want to include one in your report. Maybe you want to include EDGE scores, or average values instead of max. It's up to you and what you think is the best way to visualise your data!"
      ]
    }
  ]
}