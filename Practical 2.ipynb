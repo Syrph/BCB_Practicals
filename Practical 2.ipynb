{
  "nbformat": 4,
  "nbformat_minor": 0,
  "metadata": {
    "kernelspec": {
      "name": "ir",
      "display_name": "R",
      "language": "R"
    },
    "language_info": {
      "name": "R",
      "codemirror_mode": "r",
      "pygments_lexer": "r",
      "mimetype": "text/x-r-source",
      "file_extension": ".r",
      "version": "3.6.3"
    },
    "colab": {
      "name": "Practical 2.ipynb",
      "provenance": []
    }
  },
  "cells": [
    {
      "cell_type": "markdown",
      "metadata": {
        "id": "eULkxaLa16bO"
      },
      "source": [
        "## Phylogenetics in R\n",
        "\n",
        "### 1. Introduction and resources\n",
        "\n",
        "This practical introduces you to basic phylogenetic computing in `R`. We will review importing phylogenetic trees as data files, displaying phylogenetic trees visually, and some basic evolutionary computations that can be conducted with phylogenetic trees. This practical will deliver some of the important background for Coursework 1. Below you will find some of the relevant resources required for this practical.\n",
        "\n",
        "Parts (sections 2,3,4) of this practical are written by [Natalie Cooper](http://nhcooper123.github.io/).\n",
        "The original can be found [here](https://github.com/nhcooper123/TeachingMaterials/blob/master/PhD_Museum/VisualisingPhylo.Rmd). Whereas, parts (section 5 & 6) of this practical are written by Adam Devenish & Rob Barber (a.devenish@imperial.ac.uk) (r.barber19@imperial.ac.uk).\n",
        "\n",
        "The data used throughout the practical can be downloaded from Blackboard, Binder, or from [here](https://raw.githubusercontent.com/nhcooper123/TeachingMaterials/master/PhD_Museum/elopomorph.tre) and [here](https://raw.githubusercontent.com/nhcooper123/TeachingMaterials/master/PhD_Museum/anole.data.csv) (right click and `save link as`).\n",
        "\n",
        "\n",
        "\n",
        "### 2. Installing and loading extra packages in R\n",
        "To plot phylogenies (or use any specialized analysis) in R, you need to download one or more additional\n",
        "packages from the basic R installation. For this practical you will need to install the following packages:\n",
        "\n",
        "• ape\n",
        "\n",
        "• phytools\n",
        "\n",
        "To install the package ape:"
      ]
    },
    {
      "cell_type": "code",
      "metadata": {
        "id": "Et3D1VII2ISm"
      },
      "source": [
        "dir.create(\"My Git Repo\")\n",
        "git2r::clone(\"https://github.com/Syrph/BCB_Practicals\", \"My Git Repo\")\n",
        "setwd(\"My Git Repo\")\n",
        "system(\"sudo apt-get install libgdal-dev libproj-dev libgeos-dev libudunits2-dev libv8-dev libprotobuf-dev libjq-dev\")\n",
        "source(\"install.R\")"
      ],
      "execution_count": null,
      "outputs": []
    },
    {
      "cell_type": "code",
      "metadata": {
        "trusted": true,
        "id": "DqmXSoG716bP"
      },
      "source": [
        "install.packages(\"ape\")"
      ],
      "execution_count": null,
      "outputs": []
    },
    {
      "cell_type": "markdown",
      "metadata": {
        "id": "3OrFcePE16bS"
      },
      "source": [
        "Pick the closest mirror to you. These packages will download on both Jupyter Notebooks and in your own RStudio.\n",
        "\n",
        "You've installed the packages but they don't automatically get loaded into your `R` session. \n",
        "Instead you need to tell `R` to load them **every time** you start a new `R` session and want to use functions from these packages. \n",
        "To load the package `ape` into your current `R` session:"
      ]
    },
    {
      "cell_type": "code",
      "metadata": {
        "trusted": true,
        "id": "VSujylUC16bS"
      },
      "source": [
        "library(ape)"
      ],
      "execution_count": null,
      "outputs": []
    },
    {
      "cell_type": "markdown",
      "metadata": {
        "id": "aF31yKAy16bU"
      },
      "source": [
        "You can think of `install.packages` like installing an app from the App Store on your smart phone - you only do this once - and `library` as being like pushing the app button on your phone - you do this every time you want to use the app.\n",
        "\n",
        "Don't forget to load `phytools` too! This may take a while on Juypter Notebooks, but you only need to install it once on your own computer!"
      ]
    },
    {
      "cell_type": "code",
      "metadata": {
        "trusted": true,
        "id": "Fn0EuyYQ16bV"
      },
      "source": [
        "install.packages(\"phytools\",repos=\"https://cloud.r-project.org\",quiet=TRUE)"
      ],
      "execution_count": null,
      "outputs": []
    },
    {
      "cell_type": "code",
      "metadata": {
        "trusted": true,
        "id": "DjzetxPg16bX"
      },
      "source": [
        "library(phytools)"
      ],
      "execution_count": null,
      "outputs": []
    },
    {
      "cell_type": "markdown",
      "metadata": {
        "id": "85Ti9Xjy16ba"
      },
      "source": [
        "### 2. A refresher of phylogenetic trees\n",
        "\n",
        "This section will review some basic aspects of phylogenetic trees and introduce how trees are handled at the level of software. Because you are now interacting with phylogenetic trees at a ‘lower level’ (i.e. at the bioinformatics level), it is also helpful to know some of the names for parts of phylogenetic trees used in computer science.\n",
        "\n",
        "### A. Tree parameters\n",
        " \n",
        "A phylogenetic tree is an ordered, multifurcating graph with labeled **tips** (or **leaves**) (and sometimes labeled histories). It represents the relative degrees of relationships of species (i.e. tips or OTUs). The graph consists of a series of **branches** (or **edges**) with join successively towards **nodes** (or **vertices**, *sing.* **vertex**). Each node is subtended by a single branch, representing the lineage of ancestors leading to a node. The node is thus the common ancestor of two or more descendant branches. All the descendant branches of a given node (and all of the their respective descendants) are said to form a **clade** (or **monophyletic group**)."
      ]
    },
    {
      "cell_type": "code",
      "metadata": {
        "trusted": true,
        "id": "h5J2ymJE16ba"
      },
      "source": [
        "# rtree creates a random tree. Setting the seed means that the same 'random' tree will plotted each time. This is because random\n",
        "# numbers from your computer are generated using the internal clock. Google it for more info!\n",
        "set.seed(0); plot(rtree(10), \"unrooted\") \n",
        "## Plot clade label\n",
        "rect(1.3,2.0,2.5,2.7, border = \"grey\")\n",
        "text(2.8, 2.5, \"Clade\")\n",
        "## Plot node label\n",
        "arrows(0.35,0.9,0.75,1, length = 0.125, angle = 20, code = 1)\n",
        "text(1.0, 1, \"Node\")\n",
        "## Plot edge label\n",
        "arrows(0.65,1.45,0.15,1.4, length = 0.125, angle = 20, code = 1)\n",
        "text(-0.1, 1.4, \"Edge\")\n",
        "## Plot tip label\n",
        "arrows(-0.15,2.8,-0.45,2.95, length = 0.125, angle = 20, code = 1)\n",
        "text(-0.6, 3, \"Tip\")"
      ],
      "execution_count": null,
      "outputs": []
    },
    {
      "cell_type": "markdown",
      "metadata": {
        "id": "aLhsQUfH16bc"
      },
      "source": [
        "When we select a node to act as the base of a tree, the tree is said to be **rooted**. At the bottom of a tree, is the **root node** (or simply the **root**)."
      ]
    },
    {
      "cell_type": "code",
      "metadata": {
        "trusted": true,
        "id": "5cFxUl3416bc"
      },
      "source": [
        "# You can also read in trees directly from text by specifying the branch lengths after each node/tip. More info below!\n",
        "tree <- read.tree(text = \"(((Homo:1, Pan:1):1, Gorilla:1):1, Pongo:1);\")\n",
        "plot(tree)\n",
        "## Plot root label\n",
        "lines(c(-0.5,0), c(3.18,3.18))\n",
        "arrows(0.03,3.18,0.35,3.18, length = 0.125, angle = 20, code = 1)\n",
        "text(0.5, 3.18, \"Root\")"
      ],
      "execution_count": null,
      "outputs": []
    },
    {
      "cell_type": "markdown",
      "metadata": {
        "id": "dR9usSqx16bf"
      },
      "source": [
        "Phylogenetic trees of the kind shown above are fairly simple and lack information about time or character changes occurring along a branch. We can assign branch length in the form of either time or the amount of change/substitution along a branch. A tree with **branch lengths** depicted can be called a **phylogram**.\n",
        "\n",
        "When (an implied) dimension of time is being considered, all the tips of the tree must be at the level representing the time in which they are observed. For trees where all the species are extant, the tips are flush at the top. This representation is called an **ultrametric** tree."
      ]
    },
    {
      "cell_type": "code",
      "metadata": {
        "trusted": true,
        "id": "7OCij-Aq16bf"
      },
      "source": [
        "tree <- read.tree(text = \"(((Homo:6.3, Pan:6.3):2.5, Gorilla:8.8):6.9, Pongo:15.7);\")\n",
        "plot(tree)\n",
        "axisPhylo()"
      ],
      "execution_count": null,
      "outputs": []
    },
    {
      "cell_type": "markdown",
      "metadata": {
        "id": "Tr4g4st-16bh"
      },
      "source": [
        "### B. Informatic representations of tree\n",
        "\n",
        "To perform any useful calculations on a tree, we need both a computer-readable tree format and (in part) to understand how trees are constructed in computer memory.\n",
        " \n",
        "#### Text based formats\n",
        "\n",
        "Storage of trees for transfer between different software is essential. This is most commonly achieved with a text-based format stored in a file. The most common file format for representing phylogenetic trees is **Newick format**. This consists of clades represented within parentheses. Commas separate each clade. Either tip names or symbols representing the tips are nested within the lowest orders of parentheses. Each tip or branch can be associated with a branch length scalar that follows a colon.\n",
        "\n",
        "For example:\n",
        "\n",
        "`\"(((Homo, Pan), Gorilla), Pongo);\"`\n",
        "\n",
        "Or with branch length:\n",
        "\n",
        "`\"(((Homo:6.3, Pan:6.3):2.5, Gorilla:8.8):6.9, Pongo:15.7);\"`\n",
        "\n",
        "Trees are also increasing use of XML formats such as PhyloXML and NeXML.\n",
        "\n",
        "In this practical we are going to use the `elopomorph.tre` newick tree.\n",
        "You can open it with a simple text editor to see the newick tree structure.\n",
        "\n",
        "#### Edge table\n",
        "\n",
        "It is also possible to represent a phylogenetic tree as a matrix of edges and vertices called an edge table. This is an even less intuitive representation, but it is implemented in `R` and worth reviewing here.\n",
        "\n",
        "There are a number of conventions that can be used to create an edge table. The general concept consists of numbering the tips *1 - n*, and all internal nodes labeled *n+1 ... n+n-1*. The numbers for the internal nodes can be assigned arbitrarily or according to an algorithm.\n",
        "\n",
        "In `R` packages like `ape`, edge tables are constructed as follows:\n",
        "\n",
        "| node | connects to |\n",
        "|---|---|\n",
        "| 5 | 6 |\n",
        "| 6 | 7 |\n",
        "| 7 | 1 |\n",
        "| 7 | 2 |\n",
        "| 6 | 3 |\n",
        "| 5 | 4 |\n",
        "\n",
        "You read the table as follows: node `5` (root) connects to node `6`. The node `6` connects to node `7`. Node `7` connects to node `1` that happen to be the first tip (`Homo`) and to node `2` (`Pan`) etc... Note that in a binary tree (i.e. a tree where each node has only two descendants) each node always connects to two elements (nodes or tips)."
      ]
    },
    {
      "cell_type": "code",
      "metadata": {
        "trusted": true,
        "id": "tpTmFD6V16bi"
      },
      "source": [
        "tree <- read.tree(text = \"(((Homo, Pan), Gorilla), Pongo);\")\n",
        "plot(tree, label.offset = 0.1)\n",
        "nodelabels() ; tiplabels()"
      ],
      "execution_count": null,
      "outputs": []
    },
    {
      "cell_type": "markdown",
      "metadata": {
        "id": "hI8fRC5s16bj"
      },
      "source": [
        "#### Records & pointers\n",
        "\n",
        "At a lower level, phylogenetic trees can be represented in computer memory as more complex data objects. We don’t need to go into detail here, but if you consider nodes and tips as data objects (i.e. a dataframe), a tree could be stored as an array of dataframes which store information about which store information about which members of that same array are descendants and which are ancestors.\n",
        "\n",
        "### 3. Loading your phylogeny and data into `R`\n",
        "#### Reading in a phylogeny from a file\n",
        "To load a tree you need the function `read.tree`.\n",
        "`read.tree` can read any newick format trees (see above) like the `elopomorph.tre` file."
      ]
    },
    {
      "cell_type": "code",
      "metadata": {
        "trusted": true,
        "id": "8Cw5xnRv16bk"
      },
      "source": [
        "fishtree <- read.tree(\"elopomorph.tre\")"
      ],
      "execution_count": null,
      "outputs": []
    },
    {
      "cell_type": "markdown",
      "metadata": {
        "id": "4Ztm1zTR16bm"
      },
      "source": [
        "###### Be sure you are always in the right directory. Remember you can navigate in `R` using `setwd()`, `getwd()` and `list.files()` (to see what's in the current directory). While using this notebook all the files are stored in the main binder, so you shouldn't need to change the directory.\n",
        "\n",
        "### Reading in a phylogeny that is already built into `R`\n",
        "The bird and anole phylogenies are already built into `R` so we don't need to read them in using `read.tree`.\n",
        "Instead we just use:\n"
      ]
    },
    {
      "cell_type": "code",
      "metadata": {
        "trusted": true,
        "id": "abubXtgJ16bm"
      },
      "source": [
        "data(bird.orders)\n",
        "data(anoletree)"
      ],
      "execution_count": null,
      "outputs": []
    },
    {
      "cell_type": "markdown",
      "metadata": {
        "id": "ds_cmyKT16bo"
      },
      "source": [
        "### Reading and viewing your data in `R`\n",
        "Later we will use some Greater Antillean *Anolis* lizard data to add data to a phylogeny.\n",
        "Before we can add data to our tree, we need to load the data we are going to use. \n",
        "`R` can read files in lots of formats, including comma-delimited and tab-delimited files.\n",
        "Excel (and many other applications) can output files in this format (it's an option in the `Save As` dialogue box under the `File` menu). \n",
        "To save time I have given you a comma-delimited text file called `anole.data.csv` which we are going to use. \n",
        "Load these data as follows. \n",
        "I am assuming you have set your working directory, if not don't forget the path."
      ]
    },
    {
      "cell_type": "code",
      "metadata": {
        "trusted": true,
        "id": "_M20Z3gZ16bo"
      },
      "source": [
        "anoledata <- read.csv(\"anole.data.csv\", header = TRUE)"
      ],
      "execution_count": null,
      "outputs": []
    },
    {
      "cell_type": "markdown",
      "metadata": {
        "id": "G8rCZyEh16br"
      },
      "source": [
        "You can use `read.delim` for tab delimited files or `read.csv` for comma delimited files (**c**omma **s**eparated **v**alues).\n",
        "`header = TRUE`, indicates that the first line of the data contains column headings.\n",
        "\n",
        "This is a good point to note that unless you **tell** `R` you want to do something, it won't do it automatically. \n",
        "So here if you successfully entered the data, `R` won't give you any indication that it worked.\n",
        "Instead you need to specifically ask `R` to look at the data.\n",
        "\n",
        "We can look at the data by typing:"
      ]
    },
    {
      "cell_type": "code",
      "metadata": {
        "trusted": true,
        "id": "4rsovLcs16br"
      },
      "source": [
        "str(anoledata)"
      ],
      "execution_count": null,
      "outputs": []
    },
    {
      "cell_type": "markdown",
      "metadata": {
        "id": "NKtnFOzq16bt"
      },
      "source": [
        "**Always** look at your data before beginning any analysis to check it read in correctly.\n",
        "\n",
        "`str` shows the structure of the data frame (this can be a really useful command when you have a big data file). \n",
        "It also tells you what kind of variables `R` thinks you have (characters, integers, numeric, factors etc.). \n",
        "Some `R` functions need the data to be certain kinds of variables so it's useful to check this."
      ]
    },
    {
      "cell_type": "code",
      "metadata": {
        "trusted": true,
        "id": "3C96M3eT16bu"
      },
      "source": [
        "head(anoledata)"
      ],
      "execution_count": null,
      "outputs": []
    },
    {
      "cell_type": "markdown",
      "metadata": {
        "id": "RUCAjAfg16bv"
      },
      "source": [
        "This gives you the first few rows of data along with the column headings."
      ]
    },
    {
      "cell_type": "code",
      "metadata": {
        "trusted": true,
        "id": "sxfziZzx16bw"
      },
      "source": [
        "names(anoledata)"
      ],
      "execution_count": null,
      "outputs": []
    },
    {
      "cell_type": "markdown",
      "metadata": {
        "id": "nY61x2UQ16by"
      },
      "source": [
        "This gives you the names of the columns."
      ]
    },
    {
      "cell_type": "code",
      "metadata": {
        "trusted": true,
        "id": "EcK3i9Ai16by"
      },
      "source": [
        "anoledata"
      ],
      "execution_count": null,
      "outputs": []
    },
    {
      "cell_type": "markdown",
      "metadata": {
        "id": "SBRIf2Vm16b0"
      },
      "source": [
        "This will print out all of the data!"
      ]
    },
    {
      "cell_type": "markdown",
      "metadata": {
        "id": "yArYT-Pf16b0"
      },
      "source": [
        "### 4. Basic tree viewing in `R`\n",
        "Now let's visualise some phylogenies! We'll use the Elopomorpha (eels and similar fishes) tree to start as it is simple."
      ]
    },
    {
      "cell_type": "code",
      "metadata": {
        "trusted": true,
        "id": "fZNk5IUv16b1"
      },
      "source": [
        "fishtree <- read.tree(\"elopomorph.tre\")"
      ],
      "execution_count": null,
      "outputs": []
    },
    {
      "cell_type": "markdown",
      "metadata": {
        "id": "VwgeZiAU16b2"
      },
      "source": [
        "Let's examine the tree by typing:"
      ]
    },
    {
      "cell_type": "code",
      "metadata": {
        "trusted": true,
        "id": "9AVYFxro16b3"
      },
      "source": [
        "fishtree\n",
        "str(fishtree)"
      ],
      "execution_count": null,
      "outputs": []
    },
    {
      "cell_type": "markdown",
      "metadata": {
        "id": "HiUzIivQ16b4"
      },
      "source": [
        "`fishtree` is a fully resolved tree with branch lengths. \n",
        "There are 62 species and 61 internal nodes. \n",
        "We can plot the tree by using the `plot.phylo` function of `ape`. \n",
        "Note that we can just use the function `plot` to do this as `R` knows if we ask it to plot a phylogeny to use `plot.phylo` instead!"
      ]
    },
    {
      "cell_type": "code",
      "metadata": {
        "trusted": true,
        "id": "eDEGzgFb16b5"
      },
      "source": [
        "plot(fishtree, cex = 0.5)"
      ],
      "execution_count": null,
      "outputs": []
    },
    {
      "cell_type": "markdown",
      "metadata": {
        "id": "pV75m6X816b7"
      },
      "source": [
        "`cex = 0.5` reduces the size of the tip labels so we can read them. \n",
        "\n",
        "We can also zoom into different sections of the tree that you're interested in:"
      ]
    },
    {
      "cell_type": "code",
      "metadata": {
        "trusted": true,
        "id": "aSpWeICY16b7"
      },
      "source": [
        "zoom(fishtree, grep(\"Gymnothorax\", fishtree$tip.label), subtree = FALSE, cex = 0.8)"
      ],
      "execution_count": null,
      "outputs": []
    },
    {
      "cell_type": "markdown",
      "metadata": {
        "id": "XQBz5iTn16b9"
      },
      "source": [
        "The `grep` function is a generic function in `R` that allows to *grab* any element in an object containing the desired characters.\n",
        "In this example, `grep` is going to search for all the elements in `fishtree$tip.label` that contains `Gymnothorax` (e.g. `Gymnothorax_kidako`, `Gymnothorax_reticularis`).\n",
        "Try using only `grep(\"thorax\", fishtree$tip.label)` to see if it also only selects the members of the *Gymnothorax* genus.\n",
        "\n",
        "In this example, we just display the tree for the *Gymnothorax* genus but you can also see how the species fit into the rest of the tree using:\n"
      ]
    },
    {
      "cell_type": "code",
      "metadata": {
        "trusted": true,
        "id": "d-iFQmVz16b9"
      },
      "source": [
        "zoom(fishtree, grep(\"Gymnothorax\", fishtree$tip.label), subtree = TRUE, cex = 0.8)"
      ],
      "execution_count": null,
      "outputs": []
    },
    {
      "cell_type": "markdown",
      "metadata": {
        "id": "KuIr4u7116b_"
      },
      "source": [
        "###### Note that `zoom` is a specific plotting function that will automatically set the plotting window to display two plots at once. This might create some conflicts if you're using RStudio. The bug can be easily solved though by typing `dev.off()` to reinitialise the plotting window and then proceed to the normal `zoom(...)` function as written above.\n",
        "\n",
        "You can also reset this to one plot only per window by using:\n"
      ]
    },
    {
      "cell_type": "code",
      "metadata": {
        "trusted": true,
        "id": "ZZj0xPVn16b_"
      },
      "source": [
        "par(mfrow = c(1, 1))"
      ],
      "execution_count": null,
      "outputs": []
    },
    {
      "cell_type": "markdown",
      "metadata": {
        "id": "xWMui4iQ16cC"
      },
      "source": [
        "To get further options for the plotting of phylogenies:"
      ]
    },
    {
      "cell_type": "code",
      "metadata": {
        "trusted": true,
        "id": "9FVFuxk716cC"
      },
      "source": [
        "?plot.phylo"
      ],
      "execution_count": null,
      "outputs": []
    },
    {
      "cell_type": "markdown",
      "metadata": {
        "id": "-8AGR77p16cE"
      },
      "source": [
        "Using the question mark (`?`) can also be done for every function if you want more details!\n",
        "\n",
        "Note that although you can use `plot` to plot the phylogeny, you need to specify `plot.phylo` to find out the options for plotting trees. You can change the style of the tree (`type`), the color of the branches and tips (`edge.color`, `tip.color`), and the size of the tip labels (`cex`). \n",
        "Here's an fun/hideous example! \n"
      ]
    },
    {
      "cell_type": "code",
      "metadata": {
        "trusted": true,
        "id": "5uBSaj9P16cF"
      },
      "source": [
        "plot(fishtree, type = \"unrooted\", edge.color = \"deeppink\", tip.color = \"springgreen\",  cex = 0.5)"
      ],
      "execution_count": null,
      "outputs": []
    },
    {
      "cell_type": "markdown",
      "metadata": {
        "id": "91P4CVlg16cG"
      },
      "source": [
        "Or try"
      ]
    },
    {
      "cell_type": "code",
      "metadata": {
        "trusted": true,
        "id": "hVRzbt2016cH"
      },
      "source": [
        "plot(ladderize(fishtree), type = \"c\", edge.color = \"darkviolet\", tip.color = \"hotpink\",  cex = 0.5)"
      ],
      "execution_count": null,
      "outputs": []
    },
    {
      "cell_type": "markdown",
      "metadata": {
        "id": "zd4Hrx8416cI"
      },
      "source": [
        "The `ladderize` function allows to display the branches from shortest to longest."
      ]
    },
    {
      "cell_type": "markdown",
      "metadata": {
        "id": "qQzYvhbF16cJ"
      },
      "source": [
        "> Try to modify the graphical options (colors, display, size, ordering of the nodes, etc.) to obtain the most beautiful or ugliest Elopomorpha phylogeny!"
      ]
    },
    {
      "cell_type": "markdown",
      "metadata": {
        "id": "v5QGBJRH16cK"
      },
      "source": [
        "## 5. Manipulating phylogenetic trees in `R`\n",
        "\n",
        "There are a range of ways in which we can manipulate trees in R. To start lets take a look at the bird family Turdidae."
      ]
    },
    {
      "cell_type": "code",
      "metadata": {
        "trusted": true,
        "id": "FjuMq1Zg16cK"
      },
      "source": [
        "Turdidae_tree<-read.nexus(\"Turdidae_birdtree.nex\")"
      ],
      "execution_count": null,
      "outputs": []
    },
    {
      "cell_type": "markdown",
      "metadata": {
        "id": "YfJVtK8t16cM"
      },
      "source": [
        "As this multiphylo object (i.e. contains 100 different trees) we need to first choose one random tree before we start."
      ]
    },
    {
      "cell_type": "code",
      "metadata": {
        "trusted": true,
        "id": "yxTiTFZM16cN"
      },
      "source": [
        "Ran_Turdidae_tree <-sample(Turdidae_tree,size=1)[[1]]\n",
        "plotTree(Ran_Turdidae_tree,type=\"fan\",fsize=0.4,lwd=0.5,ftype=\"i\")"
      ],
      "execution_count": null,
      "outputs": []
    },
    {
      "cell_type": "markdown",
      "metadata": {
        "id": "0zr6l8Qv16cO"
      },
      "source": [
        "First, lets see what species are in the tree."
      ]
    },
    {
      "cell_type": "code",
      "metadata": {
        "trusted": true,
        "id": "6kn1MonZ16cP"
      },
      "source": [
        "Ran_Turdidae_tree$tip.label"
      ],
      "execution_count": null,
      "outputs": []
    },
    {
      "cell_type": "markdown",
      "metadata": {
        "id": "_IcuiGvs16cQ"
      },
      "source": [
        "Lets say we want to drop all species with the Myadestes genus. In this instance we first find all the associated tip.labels. "
      ]
    },
    {
      "cell_type": "code",
      "metadata": {
        "trusted": true,
        "id": "INjdT5G_16cR"
      },
      "source": [
        "drop.species<-(\"Myadestes\")\n",
        "# sapply is a function that will iterate a given function over a vector (check out apply, lapply, mapply for more info)\n",
        "# in this case, we're using the grep function to find the index of anything in tip.labels that matches drop.species\n",
        "selected.tips<-sapply(drop.species,grep,Ran_Turdidae_tree$tip.label)\n",
        "# We then use the indices to select only the tips we want from all the available tip labels\n",
        "drop.species<-Ran_Turdidae_tree$tip.label[selected.tips]\n",
        "drop.species"
      ],
      "execution_count": null,
      "outputs": []
    },
    {
      "cell_type": "markdown",
      "metadata": {
        "id": "ftfU6Kd516cS"
      },
      "source": [
        "Now, we create a new tree, with the Myadestes tips dropped from it."
      ]
    },
    {
      "cell_type": "code",
      "metadata": {
        "trusted": true,
        "id": "rzjqZh-K16cS"
      },
      "source": [
        "# drop.tip will remove any matching tips from the tree\n",
        "Ran_Turdidae_tree_NM<-drop.tip(Ran_Turdidae_tree,drop.species)\n",
        "plotTree(Ran_Turdidae_tree_NM,type=\"fan\",fsize=0.4,lwd=0.5,ftype=\"i\")"
      ],
      "execution_count": null,
      "outputs": []
    },
    {
      "cell_type": "markdown",
      "metadata": {
        "id": "5Ad-COkg16cU"
      },
      "source": [
        "Alternatively, lets say we want to extract the clade within the tree that includes the pre identified selected range of species."
      ]
    },
    {
      "cell_type": "code",
      "metadata": {
        "trusted": true,
        "id": "13arz3QG16cU"
      },
      "source": [
        "# Set diff will find all the tips that don't match drop.species, and then drop.tip will remove them\n",
        "pruned_birdtree<-drop.tip(Ran_Turdidae_tree,\n",
        "    setdiff(Ran_Turdidae_tree$tip.label,drop.species))\n",
        "plotTree(pruned_birdtree,ftype=\"i\")"
      ],
      "execution_count": null,
      "outputs": []
    },
    {
      "cell_type": "markdown",
      "metadata": {
        "id": "lysCAd3Q16cW"
      },
      "source": [
        "**Remember, always to save your new revised tree. As this will save you time from having to prune it everytime. Use `write.tree` or `write.nexus` the same as you would to save a dataframe.**\n",
        "\n",
        "For some analyses, you might want to work with on a genus level tree. This can easily be done by a few key steps. We can do this using base `R`, but we'll use some packages from the `tidyverse` that have some very useful functions. \n",
        "First install and load `stringr` (for manipulating strings) and `dplyr` (for manipulating dataframes). "
      ]
    },
    {
      "cell_type": "code",
      "metadata": {
        "trusted": true,
        "id": "3rchXtZq16cX"
      },
      "source": [
        "install.packages(c('stringr', 'dplyr'))\n",
        "library(stringr)\n",
        "library(dplyr)"
      ],
      "execution_count": null,
      "outputs": []
    },
    {
      "cell_type": "code",
      "metadata": {
        "trusted": true,
        "id": "aKn5VkQU16cY"
      },
      "source": [
        "# Copy a list of all the tips from the tree\n",
        "bird_tips <- Ran_Turdidae_tree$tip.label\n",
        "\n",
        "# Split the labels into two strings where there's an underscore (simplfy returns the splits as separate columns in a dataframe)\n",
        "bird_genera <- bird_tips %>% str_split(pattern = \"_\", simplify= TRUE)\n",
        "colnames(bird_genera) <- c(\"Genus\", \"Species\")\n",
        "\n",
        "# Pull out the rows that have an distinct genus name. This will be the first instance in the dataframe for that genus.\n",
        "bird_genera <- as.data.frame(bird_genera) %>% distinct(Genus, .keep_all = T)\n",
        "bird_genera"
      ],
      "execution_count": null,
      "outputs": []
    },
    {
      "cell_type": "markdown",
      "metadata": {
        "id": "fnbw2axR16ca"
      },
      "source": [
        "We now have a dataframe of species, with one tip per each unique genus. \n",
        "\n",
        "A few things to note about the 'tidy' code we just ran:\n",
        "\n",
        "`%>%` is an operator used to 'pipe' an object into a function. Piping is common in most computing languages so look it up for more information! It can make code less clutered by separating the data from the function you need to use. This isn't unique to `tidyverse` functions, but you'll see it used a lot more in their documentation.\n",
        "\n",
        "For the `distinct` function, we specified a column name without using quotation marks. To make code easier to read, most tidy functions will process column names (or other labels) this way.\n",
        "\n",
        "We can now use our unique species from each genera to drop all the other tips in the tree."
      ]
    },
    {
      "cell_type": "code",
      "metadata": {
        "trusted": true,
        "id": "M2BWJZ0o16ca"
      },
      "source": [
        "# Combine the columns and add back in the underscore so they match the labels in the tree\n",
        "genera_tips <- paste(bird_genera$Genus, bird_genera$Species, sep=\"_\")\n",
        "\n",
        "# Pull out the tips we want to drop\n",
        "drop.tips <- setdiff(Ran_Turdidae_tree$tip.label, genera_tips)\n",
        "\n",
        "# Remove all the species except one per genus\n",
        "genera_tree<-drop.tip(Ran_Turdidae_tree, drop.tips)\n",
        "plotTree(genera_tree,ftype=\"i\")"
      ],
      "execution_count": null,
      "outputs": []
    },
    {
      "cell_type": "markdown",
      "metadata": {
        "id": "7vMjXdin16cc"
      },
      "source": [
        "As its dropped all but one species per genus, this means we will finally need to also rename the tip labels as well to reflect this change.\n"
      ]
    },
    {
      "cell_type": "code",
      "metadata": {
        "trusted": true,
        "id": "5jxU3y9x16cc"
      },
      "source": [
        "# It's definitely worth checking that the labels match up properly when you change tip labels\n",
        "par(mfrow=c(1,2))\n",
        "plotTree(genera_tree,ftype=\"i\")\n",
        "\n",
        "# Swap species names for genera\n",
        "genera_tree$tip.label<- bird_genera$Genus\n",
        "plotTree(genera_tree,ftype=\"i\")"
      ],
      "execution_count": null,
      "outputs": []
    },
    {
      "cell_type": "markdown",
      "metadata": {
        "id": "mNor6tQQ16cg"
      },
      "source": [
        "It is important to note, that a big limitation with this approach is that by selecting only one species per genus to keep, that you may run the risk of unintentially dropping tips of species that are paraphyletic. For example, Zoothera genus is spread throughout Turdidae tree."
      ]
    },
    {
      "cell_type": "code",
      "metadata": {
        "trusted": true,
        "id": "4NYIMeX216cg"
      },
      "source": [
        "plotTree(Ran_Turdidae_tree,fsize=0.2,lwd=0.2,ftype=\"i\")\n",
        "zoom(Ran_Turdidae_tree, grep(\"Zoothera\", Ran_Turdidae_tree$tip.label), subtree = TRUE, cex = 0.8)"
      ],
      "execution_count": null,
      "outputs": []
    },
    {
      "cell_type": "markdown",
      "metadata": {
        "id": "pbP7sbcW16cj"
      },
      "source": [
        "This means that when collapsing a phylogenetic tree you run the risk of miss representing the relationship between the different genera. The only way to get round this is by:\n",
        "\n",
        "a) making sure check to see how paraphyletic your tree is at the start; this can be done more easily by uploading and viewing your tree file @ https://itol.embl.de/. \n",
        "b) Renaming your conflicting paraphyletic clades within your phylogeny, by altering the individual species names.\n"
      ]
    },
    {
      "cell_type": "code",
      "metadata": {
        "trusted": true,
        "id": "a9eerMwj16ck"
      },
      "source": [
        "Ran_Turdidae_tree$tip.label[Ran_Turdidae_tree$tip.label==\"Turdus_philomelos\"]<-\"Turdus1_philomelos\""
      ],
      "execution_count": null,
      "outputs": []
    },
    {
      "cell_type": "markdown",
      "metadata": {
        "id": "XcR2_iKs16cm"
      },
      "source": [
        "## 6. Adding trait data to trees in `R`\n",
        "\n",
        "Often basic tree plots in R are all you need for exploring data and your analysis. However, for publications and presentations it may be useful to plot trees with associated trait data. We will try plotting data with a tree, using the package `ggtree`, and extension of `ggplot2`.\n",
        "\n",
        "For this exercise we will use the Turdidae tree (Thrushes) with some data on different habitat types.\n",
        "Load in the data:"
      ]
    },
    {
      "cell_type": "code",
      "metadata": {
        "trusted": true,
        "id": "9GMilIha16cm"
      },
      "source": [
        "turdidae_data <- read.csv(\"Turdidae_data.csv\")\n",
        "str(turdidae_data)"
      ],
      "execution_count": null,
      "outputs": []
    },
    {
      "cell_type": "markdown",
      "metadata": {
        "id": "OPjajX9N16co"
      },
      "source": [
        "We first need to match our data to the tip labels. First we need to put an underscore in the names, and then match them to see if there's any name differences or missing species. In your coursework you will find that occasionally because of taxonomic disagreements, you might be missing species. The easiset way to solve this is by manually checking tips that don't match."
      ]
    },
    {
      "cell_type": "code",
      "metadata": {
        "trusted": true,
        "id": "59Iol5Mm16co"
      },
      "source": [
        "# Replace the blank space with an underscore\n",
        "turdidae_data$Jetz_Name <- turdidae_data$Jetz_Name %>% str_replace(\" \", \"_\")\n",
        "head(turdidae_data)"
      ],
      "execution_count": null,
      "outputs": []
    },
    {
      "cell_type": "markdown",
      "metadata": {
        "id": "KQ-32Kic16cq"
      },
      "source": [
        "We'll use the `%in%` operator, which is useful checking if our species are in the tip labels"
      ]
    },
    {
      "cell_type": "code",
      "metadata": {
        "trusted": true,
        "id": "6Tqkw-Zh16cq"
      },
      "source": [
        "turdidae_data$Jetz_Name %in% Ran_Turdidae_tree$tip.label"
      ],
      "execution_count": null,
      "outputs": []
    },
    {
      "cell_type": "markdown",
      "metadata": {
        "id": "5NYoC_Ut16cr"
      },
      "source": [
        "We can save the results, and use this to select the rows we need from turdidae_data. We'll use the `!` operator, which means NOT. So in this case it's the species that are not in the tip labels. This can also work for lots of other functions as well so try experimenting!"
      ]
    },
    {
      "cell_type": "code",
      "metadata": {
        "trusted": true,
        "id": "FP7Wed5f16cs"
      },
      "source": [
        "index <- !(turdidae_data$Jetz_Name %in% Ran_Turdidae_tree$tip.label)\n",
        "turdidae_data[index,]"
      ],
      "execution_count": null,
      "outputs": []
    },
    {
      "cell_type": "markdown",
      "metadata": {
        "id": "ZFtRYLUx16cv"
      },
      "source": [
        "One of them we renamed so we'll change that back for our plots. The others aren't in our taxonomy. This is because they've been moved to Chaetopidae, a new family of just rockjumpers. This often happens as there are three main bird taxonomies: Jetz, Birdlife, and American Ornithological Society. We'll just remove them from our dataset."
      ]
    },
    {
      "cell_type": "code",
      "metadata": {
        "trusted": true,
        "id": "3FGLusK516cv"
      },
      "source": [
        "# Change the name back\n",
        "Ran_Turdidae_tree$tip.label[Ran_Turdidae_tree$tip.label==\"Turdus1_philomelos\"]<-\"Turdus_philomelos\"\n",
        "# Get the species that ARE in the tips\n",
        "index <- turdidae_data$Jetz_Name %in% Ran_Turdidae_tree$tip.label\n",
        "# Select only these species\n",
        "turdidae_data <- turdidae_data[index,]"
      ],
      "execution_count": null,
      "outputs": []
    },
    {
      "cell_type": "markdown",
      "metadata": {
        "id": "mB4OzEoi16cx"
      },
      "source": [
        "Now we can drop the tips that don't match and get plotting!"
      ]
    },
    {
      "cell_type": "code",
      "metadata": {
        "trusted": true,
        "id": "zB-NBqdJ16cx"
      },
      "source": [
        "drop.tips <- setdiff(Ran_Turdidae_tree$tip.label, turdidae_data$Jetz_Name)\n",
        "\n",
        "# Remove all the species except one per genus\n",
        "turdi_tree <-drop.tip(Ran_Turdidae_tree, drop.tips)\n",
        "plotTree(turdi_tree,ftype=\"i\")"
      ],
      "execution_count": null,
      "outputs": []
    },
    {
      "cell_type": "markdown",
      "metadata": {
        "id": "Gi267pmp16cz"
      },
      "source": [
        "Now lets try using ggtree to plot our data with our phylogeny. First we need to install `ggtree`. Because not all packages are available from `CRAN` directly through `R`, we'll install `BiocManager`. `devtools` is another great package for installing packages from github."
      ]
    },
    {
      "cell_type": "code",
      "metadata": {
        "trusted": true,
        "id": "zZCvEp1e16cz"
      },
      "source": [
        "install.packages(\"BiocManager\")\n",
        "BiocManager::install(\"ggtree\")"
      ],
      "execution_count": null,
      "outputs": []
    },
    {
      "cell_type": "code",
      "metadata": {
        "trusted": true,
        "id": "z_Nn1D6h16c0"
      },
      "source": [
        "library(ggtree)\n",
        "library(ggplot2)"
      ],
      "execution_count": null,
      "outputs": []
    },
    {
      "cell_type": "markdown",
      "metadata": {
        "id": "xBXYD3Eo16c2"
      },
      "source": [
        "`ggtree` is a bit more complicated than just normal tree plots, but you can also do a lot more. We'll create a basic tree plot structure first and then add tip labels and traits after. We'll also make the plotting window for `Jupyter Notebook` bigger."
      ]
    },
    {
      "cell_type": "code",
      "metadata": {
        "trusted": true,
        "id": "7asyS9zr16c2"
      },
      "source": [
        "# This resizes the plot windows in our notebook. In RStudio you can do this when you export plots using jpeg() etc.\n",
        "options(repr.plot.width=15, repr.plot.height=15)\n",
        "turdidae_plot <- ggtree(turdi_tree, layout = \"circular\")\n",
        "turdidae_plot"
      ],
      "execution_count": null,
      "outputs": []
    },
    {
      "cell_type": "markdown",
      "metadata": {
        "id": "pf2aEOqe16c5"
      },
      "source": [
        "Now we'll create a simple one column dataframe with just the habitat data to plot and the species names as row names."
      ]
    },
    {
      "cell_type": "code",
      "metadata": {
        "trusted": true,
        "id": "9E6To11S16c6"
      },
      "source": [
        "habitat_data <- as.data.frame(turdidae_data[,2])\n",
        "rownames(habitat_data) <- turdidae_data$Jetz_Name\n",
        "colnames(habitat_data) <- \"Habitat\""
      ],
      "execution_count": null,
      "outputs": []
    },
    {
      "cell_type": "markdown",
      "metadata": {
        "id": "kP_HCfaR16c7"
      },
      "source": [
        "Now we can make our plot!"
      ]
    },
    {
      "cell_type": "code",
      "metadata": {
        "trusted": true,
        "id": "WcRWBECF16c7"
      },
      "source": [
        "# Create the heat map using habitat data. Offset tells us how far from the tips to plot the data and width is how wide the bars are.\n",
        "gheat <- gheatmap(p=turdidae_plot, data=habitat_data, offset = 0.05, width=0.1, colnames = FALSE) + \n",
        "# Scale fill manual is a ggplot function. It lets the plot know what to 'fill' and what colours to use.\n",
        "scale_fill_manual(name = 'Habitat', values=c(\"deeppink3\", \"goldenrod2\", \"cyan4\")) + \n",
        "# Add the tip labels and offset them further from the bars\n",
        "geom_tiplab(offset = 5, cex=4) + \n",
        "# We're adding tip labels on top of an existing plot, so we need to make the axes bigger so our labels don't fall off the edge.\n",
        "xlim(0, 40) +\n",
        "# This resizes the legend and makes the text bigger than the default. Try changing the numbers!\n",
        "theme(legend.key.width = unit(0.8, \"cm\"), legend.key.height = unit(0.8, \"cm\"), legend.text = element_text(size = 13), legend.title = element_text(size = 13))\n",
        "\n",
        "# Lastly plot the data!\n",
        "plot(gheat)"
      ],
      "execution_count": null,
      "outputs": []
    },
    {
      "cell_type": "markdown",
      "metadata": {
        "id": "ycX-fj-C16c-"
      },
      "source": [
        "And now we have a plot where we can see the spread of habitat types in Thrushes. Try experimenting with different colours and sizes to create some beautiful trees that put this one to shame! There's also lots of other ways you can label trees. For more info this guide is a great place to start: \n",
        "https://4va.github.io/biodatasci/r-ggtree.html#the_ggtree_package"
      ]
    }
  ]
}
